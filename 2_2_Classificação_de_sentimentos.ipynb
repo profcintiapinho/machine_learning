{
  "nbformat": 4,
  "nbformat_minor": 0,
  "metadata": {
    "colab": {
      "name": "2-2_Classificação de_sentimentos.ipynb",
      "provenance": [],
      "include_colab_link": true
    },
    "kernelspec": {
      "name": "python3",
      "display_name": "Python 3"
    },
    "language_info": {
      "name": "python"
    }
  },
  "cells": [
    {
      "cell_type": "markdown",
      "metadata": {
        "id": "view-in-github",
        "colab_type": "text"
      },
      "source": [
        "<a href=\"https://colab.research.google.com/github/profcintiapinho/machine_learning/blob/main/2_2_Classifica%C3%A7%C3%A3o_de_sentimentos.ipynb\" target=\"_parent\"><img src=\"https://colab.research.google.com/assets/colab-badge.svg\" alt=\"Open In Colab\"/></a>"
      ]
    },
    {
      "cell_type": "markdown",
      "source": [
        "## Criando um base numa lista e transformando num DataFrame"
      ],
      "metadata": {
        "id": "zfxAWEh39U-y"
      }
    },
    {
      "cell_type": "code",
      "execution_count": 445,
      "metadata": {
        "id": "X3qgkkDLApOP"
      },
      "outputs": [],
      "source": [
        "#Importanto uma biblioteca de Processamento de Linguaguem natural\n",
        "import nltk"
      ]
    },
    {
      "cell_type": "code",
      "source": [
        "#base criada na mãe, com frases aleatórias\n",
        "base = base = [('não precisei pagar o ingresso','alegria'),\n",
        "('se eu ajeitar tudo fica bem','alegria'),\n",
        "('minha fortuna ultrapassa a sua','alegria'),\n",
        "('sou muito afortunado','alegria'),\n",
        "('e benefico para todos esta nova medida','alegria'),\n",
        "('ficou lindo','alegria'),\n",
        "('achei esse sapato muito simpático','alegria'),\n",
        "('estou ansiosa pela sua chegada','alegria'),\n",
        "('congratulações pelo seu aniversário','alegria'),\n",
        "('delicadamente ele a colocou para dormir','alegria'),\n",
        "('a musica e linda','alegria'),\n",
        "('sem musica eu não vivo','alegria'),\n",
        "('conclui uma tarefa muito difícil','alegria'),\n",
        "('conclui minha graduação','alegria'),\n",
        "('estou muito contente com tudo','alegria'),\n",
        "('eu confio em você','alegria'),\n",
        "('e um prazer conhecê-lo','alegria'),\n",
        "('o coleguismo de vocês e animador','alegria'),\n",
        "('estou aproveitando as ferias','alegria'),\n",
        "('vamos aproveitar as ferias','alegria'),\n",
        "('e muito divertido este jogo','alegria'),\n",
        "('vamos ter muita diversão','alegria'),\n",
        "('não achei que me divertiria tanto assim','alegria'),\n",
        "('vou consentir o orçamento ao cliente','alegria'),\n",
        "('com o consentimento dos meus pais podemos nos casar','alegria'),\n",
        "('eu adorei este perfume','alegria'),\n",
        "('sua bondade e cativante','alegria'),\n",
        "('estou despreocupada','alegria'),\n",
        "('não me preocupo com o que aconteceu','alegria'),\n",
        "('me sinto completamente segura','alegria'),\n",
        "('estimo muito o seu trabalho','alegria'),\n",
        "('somos estimados por nossa família','alegria'),\n",
        "('concretizamos nossa ideia','alegria'),\n",
        "('nosso ideal foi alcançado','alegria'),\n",
        "('estamos muito felizes juntos','alegria'),\n",
        "('estou tão animada com os preparativos para o casamento','alegria'),\n",
        "('você será muito amado meu filho','alegria'),\n",
        "('os apaixonados são maravilhosos','alegria'),\n",
        "('agradeço imensamente o seu apoio nestes dias','alegria'),\n",
        "('esta comida me parece muito atraente','alegria'),\n",
        "('você me completa','alegria'),\n",
        "('poderemos completar o projeto hoje!','alegria'),\n",
        "('estamos namorando','alegria'),\n",
        "('estou namorando este vestido a um tempo','alegria'),\n",
        "('pude comprar meu celular hoje','alegria'),\n",
        "('e um deleite poder compartilhar minhas vitórias','alegria'),\n",
        "('ela e um boa garota','alegria'),\n",
        "('estivemos em um ótimo show','alegria'),\n",
        "('este trabalho e agradável','alegria'),\n",
        "('gosto de ficar no seu aconchego','alegria'),\n",
        "('fiz a adesão ao curso hoje','alegria'),\n",
        "('eu sou admirada por muitos','alegria'),\n",
        "('adoro como você e','alegria'),\n",
        "('adoro seu cabelo macio','alegria'),\n",
        "('adoro a cor dos seus olhos','alegria'),\n",
        "('somo tão amáveis um com o outro','alegria'),\n",
        "('sinto uma grande afeição por ele','alegria'),\n",
        "('quero agradar meus filhos','alegria'),\n",
        "('me sinto completamente amado','alegria'),\n",
        "('eu amo você','alegria'),\n",
        "('que grande alivio','alegria'),\n",
        "('a dor esta amenizando finalmente','alegria'),\n",
        "('acho que me apaixonei','alegria'),\n",
        "('amar e maravilhoso','alegria'),\n",
        "('estou me sentindo muito animada','alegria'),\n",
        "('me sinto muito bem hoje','alegria'),\n",
        "('como o luar e belo','alegria'),\n",
        "('o dia esta muito bonito','alegria'),\n",
        "('nossa como sou afortunado','alegria'),\n",
        "('as maravilhas do mundo','alegria'),\n",
        "('recebi muito carinho hoje do meus colegas','alegria'),\n",
        "('estou me sentindo reconfortada hoje','alegria'),\n",
        "('e muito bom estar com os amigos','alegria'),\n",
        "('estou muito contente com o resultado dos testes','alegria'),\n",
        "('essa pintura esta bem brilhante','alegria'),\n",
        "('temos água em abundancia','alegria'),\n",
        "('que roupa delicada','alegria'),\n",
        "('você e um grande comediante','alegria'),\n",
        "('que bondade a sua em vir aqui','alegria'),\n",
        "('o amor e lindo','alegria'),\n",
        "('nossa amizade vai durar para sempre','alegria'),\n",
        "('estou eufórica com a noticia','alegria'),\n",
        "('ele e realmente fiel a mim','alegria'),\n",
        "('vou dar uma grande festa para comemorar meu aniversário','alegria'),\n",
        "('graças a deus que eu enxerguei o certo','alegria'),\n",
        "('essa e a melhor escolhas de todas','alegria'),\n",
        "('o mais incrível e você minha bela','alegria'),\n",
        "('e tão engraçado tentar explicar','alegria'),\n",
        "('e emocionante estar neste lugar','alegria'),\n",
        "('estou cativada pelo seu olhar','alegria'),\n",
        "('estou loucamente apaixonada','alegria'),\n",
        "('eu nunca tive duvidas','alegria'),\n",
        "('estou rodeada pelo seu abraço','alegria'),\n",
        "('eu vejo estrelas pelo caminho','alegria'),\n",
        "('eu sinto o sol sempre que você esta por perto','alegria'),\n",
        "('eu estou sorrindo de orelha a orelha','alegria'),\n",
        "('isso vale a pena','alegria'),\n",
        "('finalmente você colocou meu amor em primeiro lugar','alegria'),\n",
        "('nós dançamos noite adentro','alegria'),\n",
        "('seu amor e brilhante','alegria'),\n",
        "('toquei muitos corações durante o meu caminho','alegria'),\n",
        "('eu serei sua amiga e companheira','alegria'),\n",
        "('você me traz de volta a vida','alegria'),\n",
        "('você e como um sonho doce','alegria'),\n",
        "('adoro este doce de frutas','alegria'),\n",
        "('meu suco favorito','alegria'),\n",
        "('estou agradecida pela ajuda','alegria'),\n",
        "('e um enorme prazer ter você em nossa equipe','alegria'),\n",
        "('trabalhar em equipe e o melhor','alegria'),\n",
        "('me sinto flutuando no ar','alegria'),\n",
        "('a brisa esta agradável hoje','alegria'),\n",
        "('ótimo e compatível','alegria'),\n",
        "('somos compatíveis um com o outro','alegria'),\n",
        "('o órgão e compatível com o paciente','alegria'),\n",
        "('estou contente fui aceita na faculdade','alegria'),\n",
        "('fui aprovada no meu exame','alegria'),\n",
        "('fui beneficiada pela minha empresa','alegria'),\n",
        "('eu sou muito cativante','alegria'),\n",
        "('estou contente com o apoio','alegria'),\n",
        "('como este lugar e confortável','alegria'),\n",
        "('e bom estar quente neste frio','alegria'),\n",
        "('um elogio nunca e demais','alegria'),\n",
        "('vou te chamar para comemorar','alegria'),\n",
        "('e desejável a sua presença em nossa apresentação','alegria'),\n",
        "('sou muito grata a você','alegria'),\n",
        "('me dedico muito naquilo que faço','alegria'),\n",
        "('estou completamente apaixonada ','alegria'),\n",
        "('vamos agitar essa noite ','alegria'),\n",
        "('você significa muito para mim','alegria'),\n",
        "('vamos agir sem preconceitos e julgamentos','alegria'),\n",
        "('finalmente completei a minha coleção, maravilhoso','alegria'),\n",
        "('eu sou sua rainha ','alegria'),\n",
        "('satisfatoriamente eu anuncio o vencedor dos jogos','alegria'),\n",
        "('você me atrai facilmente ','alegria'),\n",
        "('aquele rapaz e extremamente atraente','alegria'),\n",
        "('sinto-me viva ','alegria'),\n",
        "('sinto-me em paz ','alegria'),\n",
        "('estamos tendo muito lucro','alegria'),\n",
        "('muito bem esta tudo em ordem agora ','alegria'),\n",
        "('podemos arrumar um emprego juntos ','alegria'),\n",
        "('a arrumação esta terminada, que alívio','alegria'),\n",
        "('o câncer e benigno ','alegria'),\n",
        "('o amor e abundante','alegria'),\n",
        "('vamos ser caridosos este natal','alegria'),\n",
        "('com todo esse charme você irá atrair a todos','alegria'),\n",
        "('nossa como você e charmoso querido ','alegria'),\n",
        "('sou querida pelos meu amigos','alegria'),\n",
        "('seja cuidadoso com os meus sentimentos','alegria'),\n",
        "('estou comovido com tamanha caridade','alegria'),\n",
        "('um chá quente e reconfortante','alegria'),\n",
        "('que alegria ter vocês aqui ','alegria'),\n",
        "('vamos aplaudir o vencedor ','alegria'),\n",
        "('palmas para a aniversariante','alegria'),\n",
        "('desejo a você tudo de bom','alegria'),\n",
        "('hora de apreciar um bom vinho','alegria'),\n",
        "('aprecio sua presença em minha escola','alegria'),\n",
        "('anseio por seus próximos trabalhos','alegria'),\n",
        "('maravilhoso jogo amistoso','alegria'),\n",
        "('e ótimo que os ânimos tenham se apaziguado','alegria'),\n",
        "('concretizei finalmente meu sonho','alegria'),\n",
        "('eu imploro, não me matem!','medo'),\n",
        "('tem certeza que não e perigoso?','medo'),\n",
        "('não tenho certeza se e seguro','medo'),\n",
        "('tenho que correr pra não me pegarem','medo'),\n",
        "('socorro! ele queria roubar os meus doces!','medo'),\n",
        "('esse cara está me perseguindo','medo'),\n",
        "('não entro lá, e um lugar muito perigoso','medo'),\n",
        "('este lugar continua assustador','medo'),\n",
        "('na selva tem muitos animais perigosos','medo'),\n",
        "('avancem com cautela','medo'),\n",
        "('este lugar está silencioso de mais, cuidado!','medo'),\n",
        "('por favor, deixe-me viver!','medo'),\n",
        "('vou ficar sem mesada se tirar nota baixa','medo'),\n",
        "('parece que tem olhos nos vigiando','medo'),\n",
        "('eu temo que a sentença do juiz possa ser negativa','medo'),\n",
        "('mas essa missão e arriscada','medo'),\n",
        "('salvem-se quem puder!','medo'),\n",
        "('meu plano pode ser descoberto','medo'),\n",
        "('não tive culpa, juro não fui eu','medo'),\n",
        "('tenho que tomar cuidado com o lobisomem','medo'),\n",
        "('se eu não achar, ele vai descobrir a verdade','medo'),\n",
        "('meu deus, ele desapareceu!','medo'),\n",
        "('tomara que eles não me vejam daqui!','medo'),\n",
        "('mantenha isso em segredo, se descobrirem estaremos ferrados','medo'),\n",
        "('por favor, me soltem, eu sou inocente','medo'),\n",
        "('estou ouvindo passos atrás de mim','medo'),\n",
        "('eu vou pedir socorro!','medo'),\n",
        "('cuidado com as curvas na estrada','medo'),\n",
        "('não sei não, parece perigoso','medo'),\n",
        "('estou tremendo de medo!','medo'),\n",
        "('socorro, eu vou cair!','medo'),\n",
        "('eu não vou ate a floresta negra, e muito perigoso','medo'),\n",
        "('ouço passos na minha direção','medo'),\n",
        "('acho que está arriscado de mais','medo'),\n",
        "('vamos voltar, e muito perigoso','medo'),\n",
        "('fuja, se não acabaremos mortos','medo'),\n",
        "('receio por não me livrar desta situação','medo'),\n",
        "('socorro! ele está armado!','medo'),\n",
        "('ei cuidado, você vai bater no poste!','medo'),\n",
        "('socorro, nós estamos afundando','medo'),\n",
        "('e serio, cuidado com essa arma!','medo'),\n",
        "('os tubarões estão atacando!','medo'),\n",
        "('sinto arrepios quando fico sozinho no escuro','medo'),\n",
        "('calma, eu não estou com o dinheiro','medo'),\n",
        "('eu acho que estou sendo enganado','medo'),\n",
        "('ligeiro, temos que fugir depressa','medo'),\n",
        "('tem um crocodilo selvagem vindo para cá','medo'),\n",
        "('se ficarmos quietos eles não vão nos achar','medo'),\n",
        "('fuja! o tigre parece faminto','medo'),\n",
        "('estou sem saída, preciso de um milagre','medo'),\n",
        "('tire isso de mim! socorro!','medo'),\n",
        "('não sei nadar, vou me afogar!','medo'),\n",
        "('não tenho certeza se e seguro','medo'),\n",
        "('vou apanhar se meus pais verem meu boletim','medo'),\n",
        "('não consigo sair daqui!','medo'),\n",
        "('se sair tão tarde, poderei ser assaltada','medo'),\n",
        "('não me deixe por favor!','medo'),\n",
        "('espere, não pode me largar aqui sozinho','medo'),\n",
        "('temo pela sua segurança','medo'),\n",
        "('eu te entrego o dinheiro, por favor não me mate!','medo'),\n",
        "('ele vai levar todo o meu dinheiro','medo'),\n",
        "('não dirija tão rápido assim','medo'),\n",
        "('me descobriram, irão me prender!','medo'),\n",
        "('só espero que não me façam nenhum mal','medo'),\n",
        "('vou me afogar, me ajudem a sair da água','medo'),\n",
        "('não estaremos a salvo aqui','medo'),\n",
        "('não quero nem pensar no que pode acontecer','medo'),\n",
        "('nessa cidade e uma desgraça atrás da outra','medo'),\n",
        "('alguem esta me ligando, estou assustado','medo'),\n",
        "('isso não e remedio, não me matem','medo'),\n",
        "('eu não confio nele, tenho que ter cautela','medo'),\n",
        "('muita cautela','medo'),\n",
        "('vou ser descoberto, meu deus','medo'),\n",
        "('receio que terei de ir','medo'),\n",
        "('a noite e muito perigosa','medo'),\n",
        "('estou estremecendo com essa casa','medo'),\n",
        "('olha aquela criatura se movendo monstruosamente','medo'),\n",
        "('não agüento este suspense','medo'),\n",
        "('afugente os cães','medo'),\n",
        "('estou chocado e amedrontado com este assassinato brutal','medo'),\n",
        "('e preciso afugenta com ímpeto este medo do inferno','medo'),\n",
        "('seu políticos usam suas forças para afugentar e amedrontar o povo','medo'),\n",
        "('o objetivo disso e apenas me amedrontar mais','medo'),\n",
        "('isso me apavora','medo'),\n",
        "('que abominável esse montro!','medo'),\n",
        "('vamos alarmar a todos sobre a situação','medo'),\n",
        "('estou amedrontada','medo'),\n",
        "('estou com muito medo da noite','medo'),\n",
        "('ele esta me ameaçando a dias','medo'),\n",
        "('quanta angustia','medo'),\n",
        "('estou angustiada','medo'),\n",
        "('angustiadamente vou sair e casa','medo'),\n",
        "('isso me deixa apavorada','medo'),\n",
        "('você esta me apavorando','medo'),\n",
        "('estou desconfiada de você','medo'),\n",
        "('não confio em você','medo'),\n",
        "('ate o cachorro está apavorado','medo'),\n",
        "('estou assustado com as ações do meu colega','medo'),\n",
        "('agora se sente humilhado, apavorado','medo'),\n",
        "('assustou a população e provocou mortes','medo'),\n",
        "('estou com dificuldades para respirar e muito assustado','medo'),\n",
        "('os policiais se assustaram quando o carro capotou','medo'),\n",
        "('o trabalhador e assombrado pelo temor do desemprego','medo'),\n",
        "('este lugar e mal assombrado','medo'),\n",
        "('estou assombrado pela crise financeira','medo'),\n",
        "('mesmo aterrorizado lembro de você','medo'),\n",
        "('aterrorizado e suando frio','medo'),\n",
        "('um grupo de elefantes selvagens tem aterrorizado vilas','medo'),\n",
        "('me sinto intimidada pela sua presença','medo'),\n",
        "('tenho medo de ser advertida novamente','medo'),\n",
        "('estou correndo o risco de ser advertido','medo'),\n",
        "('estou correndo riscos de saúde','medo'),\n",
        "('os riscos são reais','medo'),\n",
        "('podemos perder muito dinheiro com essa investida','medo'),\n",
        "('socorro, fui intimado a depor','medo'),\n",
        "('fui notificado e estou com medo de perde a guarda da minha filha','medo'),\n",
        "('estou angustiada com meus filhos na rua','medo'),\n",
        "('e abominável o que fazem com os animais','medo'),\n",
        "('foi terrível o tigre quase o matou','medo'),\n",
        "('me advertiram sobre isso','medo')]"
      ],
      "metadata": {
        "id": "8mpdvlhDBxEP"
      },
      "execution_count": 446,
      "outputs": []
    },
    {
      "cell_type": "code",
      "source": [
        "import numpy as np\n",
        "import pandas as pd"
      ],
      "metadata": {
        "id": "Mnw49ieLbl_p"
      },
      "execution_count": 447,
      "outputs": []
    },
    {
      "cell_type": "code",
      "source": [
        "type(base)"
      ],
      "metadata": {
        "colab": {
          "base_uri": "https://localhost:8080/"
        },
        "id": "lDMZakHj91Hw",
        "outputId": "6bdb4911-3a77-401e-c270-1396141384d5"
      },
      "execution_count": 448,
      "outputs": [
        {
          "output_type": "execute_result",
          "data": {
            "text/plain": [
              "list"
            ]
          },
          "metadata": {},
          "execution_count": 448
        }
      ]
    },
    {
      "cell_type": "markdown",
      "source": [
        "## Convertendo uma Lista em um  Dataframe"
      ],
      "metadata": {
        "id": "L9vQGExA-TkF"
      }
    },
    {
      "cell_type": "code",
      "source": [
        "basenova = pd.DataFrame(base, columns = ['frase','sentimento'])"
      ],
      "metadata": {
        "id": "UQKP1gXDb5mP"
      },
      "execution_count": 449,
      "outputs": []
    },
    {
      "cell_type": "code",
      "source": [
        "basenova"
      ],
      "metadata": {
        "colab": {
          "base_uri": "https://localhost:8080/",
          "height": 424
        },
        "id": "puPkV_kwpGn3",
        "outputId": "48a12837-3175-40a2-8e14-88b77c1b0276"
      },
      "execution_count": 450,
      "outputs": [
        {
          "output_type": "execute_result",
          "data": {
            "text/plain": [
              "                                                 frase sentimento\n",
              "0                        não precisei pagar o ingresso    alegria\n",
              "1                          se eu ajeitar tudo fica bem    alegria\n",
              "2                       minha fortuna ultrapassa a sua    alegria\n",
              "3                                 sou muito afortunado    alegria\n",
              "4               e benefico para todos esta nova medida    alegria\n",
              "..                                                 ...        ...\n",
              "275  fui notificado e estou com medo de perde a gua...       medo\n",
              "276            estou angustiada com meus filhos na rua       medo\n",
              "277            e abominável o que fazem com os animais       medo\n",
              "278                 foi terrível o tigre quase o matou       medo\n",
              "279                           me advertiram sobre isso       medo\n",
              "\n",
              "[280 rows x 2 columns]"
            ],
            "text/html": [
              "\n",
              "  <div id=\"df-21ae9a1b-6e37-4ca6-ad90-1d22a5c18046\">\n",
              "    <div class=\"colab-df-container\">\n",
              "      <div>\n",
              "<style scoped>\n",
              "    .dataframe tbody tr th:only-of-type {\n",
              "        vertical-align: middle;\n",
              "    }\n",
              "\n",
              "    .dataframe tbody tr th {\n",
              "        vertical-align: top;\n",
              "    }\n",
              "\n",
              "    .dataframe thead th {\n",
              "        text-align: right;\n",
              "    }\n",
              "</style>\n",
              "<table border=\"1\" class=\"dataframe\">\n",
              "  <thead>\n",
              "    <tr style=\"text-align: right;\">\n",
              "      <th></th>\n",
              "      <th>frase</th>\n",
              "      <th>sentimento</th>\n",
              "    </tr>\n",
              "  </thead>\n",
              "  <tbody>\n",
              "    <tr>\n",
              "      <th>0</th>\n",
              "      <td>não precisei pagar o ingresso</td>\n",
              "      <td>alegria</td>\n",
              "    </tr>\n",
              "    <tr>\n",
              "      <th>1</th>\n",
              "      <td>se eu ajeitar tudo fica bem</td>\n",
              "      <td>alegria</td>\n",
              "    </tr>\n",
              "    <tr>\n",
              "      <th>2</th>\n",
              "      <td>minha fortuna ultrapassa a sua</td>\n",
              "      <td>alegria</td>\n",
              "    </tr>\n",
              "    <tr>\n",
              "      <th>3</th>\n",
              "      <td>sou muito afortunado</td>\n",
              "      <td>alegria</td>\n",
              "    </tr>\n",
              "    <tr>\n",
              "      <th>4</th>\n",
              "      <td>e benefico para todos esta nova medida</td>\n",
              "      <td>alegria</td>\n",
              "    </tr>\n",
              "    <tr>\n",
              "      <th>...</th>\n",
              "      <td>...</td>\n",
              "      <td>...</td>\n",
              "    </tr>\n",
              "    <tr>\n",
              "      <th>275</th>\n",
              "      <td>fui notificado e estou com medo de perde a gua...</td>\n",
              "      <td>medo</td>\n",
              "    </tr>\n",
              "    <tr>\n",
              "      <th>276</th>\n",
              "      <td>estou angustiada com meus filhos na rua</td>\n",
              "      <td>medo</td>\n",
              "    </tr>\n",
              "    <tr>\n",
              "      <th>277</th>\n",
              "      <td>e abominável o que fazem com os animais</td>\n",
              "      <td>medo</td>\n",
              "    </tr>\n",
              "    <tr>\n",
              "      <th>278</th>\n",
              "      <td>foi terrível o tigre quase o matou</td>\n",
              "      <td>medo</td>\n",
              "    </tr>\n",
              "    <tr>\n",
              "      <th>279</th>\n",
              "      <td>me advertiram sobre isso</td>\n",
              "      <td>medo</td>\n",
              "    </tr>\n",
              "  </tbody>\n",
              "</table>\n",
              "<p>280 rows × 2 columns</p>\n",
              "</div>\n",
              "      <button class=\"colab-df-convert\" onclick=\"convertToInteractive('df-21ae9a1b-6e37-4ca6-ad90-1d22a5c18046')\"\n",
              "              title=\"Convert this dataframe to an interactive table.\"\n",
              "              style=\"display:none;\">\n",
              "        \n",
              "  <svg xmlns=\"http://www.w3.org/2000/svg\" height=\"24px\"viewBox=\"0 0 24 24\"\n",
              "       width=\"24px\">\n",
              "    <path d=\"M0 0h24v24H0V0z\" fill=\"none\"/>\n",
              "    <path d=\"M18.56 5.44l.94 2.06.94-2.06 2.06-.94-2.06-.94-.94-2.06-.94 2.06-2.06.94zm-11 1L8.5 8.5l.94-2.06 2.06-.94-2.06-.94L8.5 2.5l-.94 2.06-2.06.94zm10 10l.94 2.06.94-2.06 2.06-.94-2.06-.94-.94-2.06-.94 2.06-2.06.94z\"/><path d=\"M17.41 7.96l-1.37-1.37c-.4-.4-.92-.59-1.43-.59-.52 0-1.04.2-1.43.59L10.3 9.45l-7.72 7.72c-.78.78-.78 2.05 0 2.83L4 21.41c.39.39.9.59 1.41.59.51 0 1.02-.2 1.41-.59l7.78-7.78 2.81-2.81c.8-.78.8-2.07 0-2.86zM5.41 20L4 18.59l7.72-7.72 1.47 1.35L5.41 20z\"/>\n",
              "  </svg>\n",
              "      </button>\n",
              "      \n",
              "  <style>\n",
              "    .colab-df-container {\n",
              "      display:flex;\n",
              "      flex-wrap:wrap;\n",
              "      gap: 12px;\n",
              "    }\n",
              "\n",
              "    .colab-df-convert {\n",
              "      background-color: #E8F0FE;\n",
              "      border: none;\n",
              "      border-radius: 50%;\n",
              "      cursor: pointer;\n",
              "      display: none;\n",
              "      fill: #1967D2;\n",
              "      height: 32px;\n",
              "      padding: 0 0 0 0;\n",
              "      width: 32px;\n",
              "    }\n",
              "\n",
              "    .colab-df-convert:hover {\n",
              "      background-color: #E2EBFA;\n",
              "      box-shadow: 0px 1px 2px rgba(60, 64, 67, 0.3), 0px 1px 3px 1px rgba(60, 64, 67, 0.15);\n",
              "      fill: #174EA6;\n",
              "    }\n",
              "\n",
              "    [theme=dark] .colab-df-convert {\n",
              "      background-color: #3B4455;\n",
              "      fill: #D2E3FC;\n",
              "    }\n",
              "\n",
              "    [theme=dark] .colab-df-convert:hover {\n",
              "      background-color: #434B5C;\n",
              "      box-shadow: 0px 1px 3px 1px rgba(0, 0, 0, 0.15);\n",
              "      filter: drop-shadow(0px 1px 2px rgba(0, 0, 0, 0.3));\n",
              "      fill: #FFFFFF;\n",
              "    }\n",
              "  </style>\n",
              "\n",
              "      <script>\n",
              "        const buttonEl =\n",
              "          document.querySelector('#df-21ae9a1b-6e37-4ca6-ad90-1d22a5c18046 button.colab-df-convert');\n",
              "        buttonEl.style.display =\n",
              "          google.colab.kernel.accessAllowed ? 'block' : 'none';\n",
              "\n",
              "        async function convertToInteractive(key) {\n",
              "          const element = document.querySelector('#df-21ae9a1b-6e37-4ca6-ad90-1d22a5c18046');\n",
              "          const dataTable =\n",
              "            await google.colab.kernel.invokeFunction('convertToInteractive',\n",
              "                                                     [key], {});\n",
              "          if (!dataTable) return;\n",
              "\n",
              "          const docLinkHtml = 'Like what you see? Visit the ' +\n",
              "            '<a target=\"_blank\" href=https://colab.research.google.com/notebooks/data_table.ipynb>data table notebook</a>'\n",
              "            + ' to learn more about interactive tables.';\n",
              "          element.innerHTML = '';\n",
              "          dataTable['output_type'] = 'display_data';\n",
              "          await google.colab.output.renderOutput(dataTable, element);\n",
              "          const docLink = document.createElement('div');\n",
              "          docLink.innerHTML = docLinkHtml;\n",
              "          element.appendChild(docLink);\n",
              "        }\n",
              "      </script>\n",
              "    </div>\n",
              "  </div>\n",
              "  "
            ]
          },
          "metadata": {},
          "execution_count": 450
        }
      ]
    },
    {
      "cell_type": "code",
      "source": [
        "#Embraralhando a base\n",
        "import sklearn\n",
        "basenova = sklearn.utils.shuffle(basenova)"
      ],
      "metadata": {
        "id": "uTp0Z608A8eD"
      },
      "execution_count": 451,
      "outputs": []
    },
    {
      "cell_type": "code",
      "source": [
        "basenova"
      ],
      "metadata": {
        "colab": {
          "base_uri": "https://localhost:8080/",
          "height": 424
        },
        "id": "AUvRJ3ZCBTdJ",
        "outputId": "cc75ac3a-6c3d-4794-94fa-3a2ac2d70504"
      },
      "execution_count": 452,
      "outputs": [
        {
          "output_type": "execute_result",
          "data": {
            "text/plain": [
              "                                                 frase sentimento\n",
              "33                           nosso ideal foi alcançado    alegria\n",
              "174  eu temo que a sentença do juiz possa ser negativa       medo\n",
              "89                       estou cativada pelo seu olhar    alegria\n",
              "202       sinto arrepios quando fico sozinho no escuro       medo\n",
              "240  e preciso afugenta com ímpeto este medo do inf...       medo\n",
              "..                                                 ...        ...\n",
              "255                                 não confio em você       medo\n",
              "278                 foi terrível o tigre quase o matou       medo\n",
              "191  eu não vou ate a floresta negra, e muito perigoso       medo\n",
              "48                           este trabalho e agradável    alegria\n",
              "29                       me sinto completamente segura    alegria\n",
              "\n",
              "[280 rows x 2 columns]"
            ],
            "text/html": [
              "\n",
              "  <div id=\"df-9f4a49ce-215f-406f-bae8-67e4581dc52a\">\n",
              "    <div class=\"colab-df-container\">\n",
              "      <div>\n",
              "<style scoped>\n",
              "    .dataframe tbody tr th:only-of-type {\n",
              "        vertical-align: middle;\n",
              "    }\n",
              "\n",
              "    .dataframe tbody tr th {\n",
              "        vertical-align: top;\n",
              "    }\n",
              "\n",
              "    .dataframe thead th {\n",
              "        text-align: right;\n",
              "    }\n",
              "</style>\n",
              "<table border=\"1\" class=\"dataframe\">\n",
              "  <thead>\n",
              "    <tr style=\"text-align: right;\">\n",
              "      <th></th>\n",
              "      <th>frase</th>\n",
              "      <th>sentimento</th>\n",
              "    </tr>\n",
              "  </thead>\n",
              "  <tbody>\n",
              "    <tr>\n",
              "      <th>33</th>\n",
              "      <td>nosso ideal foi alcançado</td>\n",
              "      <td>alegria</td>\n",
              "    </tr>\n",
              "    <tr>\n",
              "      <th>174</th>\n",
              "      <td>eu temo que a sentença do juiz possa ser negativa</td>\n",
              "      <td>medo</td>\n",
              "    </tr>\n",
              "    <tr>\n",
              "      <th>89</th>\n",
              "      <td>estou cativada pelo seu olhar</td>\n",
              "      <td>alegria</td>\n",
              "    </tr>\n",
              "    <tr>\n",
              "      <th>202</th>\n",
              "      <td>sinto arrepios quando fico sozinho no escuro</td>\n",
              "      <td>medo</td>\n",
              "    </tr>\n",
              "    <tr>\n",
              "      <th>240</th>\n",
              "      <td>e preciso afugenta com ímpeto este medo do inf...</td>\n",
              "      <td>medo</td>\n",
              "    </tr>\n",
              "    <tr>\n",
              "      <th>...</th>\n",
              "      <td>...</td>\n",
              "      <td>...</td>\n",
              "    </tr>\n",
              "    <tr>\n",
              "      <th>255</th>\n",
              "      <td>não confio em você</td>\n",
              "      <td>medo</td>\n",
              "    </tr>\n",
              "    <tr>\n",
              "      <th>278</th>\n",
              "      <td>foi terrível o tigre quase o matou</td>\n",
              "      <td>medo</td>\n",
              "    </tr>\n",
              "    <tr>\n",
              "      <th>191</th>\n",
              "      <td>eu não vou ate a floresta negra, e muito perigoso</td>\n",
              "      <td>medo</td>\n",
              "    </tr>\n",
              "    <tr>\n",
              "      <th>48</th>\n",
              "      <td>este trabalho e agradável</td>\n",
              "      <td>alegria</td>\n",
              "    </tr>\n",
              "    <tr>\n",
              "      <th>29</th>\n",
              "      <td>me sinto completamente segura</td>\n",
              "      <td>alegria</td>\n",
              "    </tr>\n",
              "  </tbody>\n",
              "</table>\n",
              "<p>280 rows × 2 columns</p>\n",
              "</div>\n",
              "      <button class=\"colab-df-convert\" onclick=\"convertToInteractive('df-9f4a49ce-215f-406f-bae8-67e4581dc52a')\"\n",
              "              title=\"Convert this dataframe to an interactive table.\"\n",
              "              style=\"display:none;\">\n",
              "        \n",
              "  <svg xmlns=\"http://www.w3.org/2000/svg\" height=\"24px\"viewBox=\"0 0 24 24\"\n",
              "       width=\"24px\">\n",
              "    <path d=\"M0 0h24v24H0V0z\" fill=\"none\"/>\n",
              "    <path d=\"M18.56 5.44l.94 2.06.94-2.06 2.06-.94-2.06-.94-.94-2.06-.94 2.06-2.06.94zm-11 1L8.5 8.5l.94-2.06 2.06-.94-2.06-.94L8.5 2.5l-.94 2.06-2.06.94zm10 10l.94 2.06.94-2.06 2.06-.94-2.06-.94-.94-2.06-.94 2.06-2.06.94z\"/><path d=\"M17.41 7.96l-1.37-1.37c-.4-.4-.92-.59-1.43-.59-.52 0-1.04.2-1.43.59L10.3 9.45l-7.72 7.72c-.78.78-.78 2.05 0 2.83L4 21.41c.39.39.9.59 1.41.59.51 0 1.02-.2 1.41-.59l7.78-7.78 2.81-2.81c.8-.78.8-2.07 0-2.86zM5.41 20L4 18.59l7.72-7.72 1.47 1.35L5.41 20z\"/>\n",
              "  </svg>\n",
              "      </button>\n",
              "      \n",
              "  <style>\n",
              "    .colab-df-container {\n",
              "      display:flex;\n",
              "      flex-wrap:wrap;\n",
              "      gap: 12px;\n",
              "    }\n",
              "\n",
              "    .colab-df-convert {\n",
              "      background-color: #E8F0FE;\n",
              "      border: none;\n",
              "      border-radius: 50%;\n",
              "      cursor: pointer;\n",
              "      display: none;\n",
              "      fill: #1967D2;\n",
              "      height: 32px;\n",
              "      padding: 0 0 0 0;\n",
              "      width: 32px;\n",
              "    }\n",
              "\n",
              "    .colab-df-convert:hover {\n",
              "      background-color: #E2EBFA;\n",
              "      box-shadow: 0px 1px 2px rgba(60, 64, 67, 0.3), 0px 1px 3px 1px rgba(60, 64, 67, 0.15);\n",
              "      fill: #174EA6;\n",
              "    }\n",
              "\n",
              "    [theme=dark] .colab-df-convert {\n",
              "      background-color: #3B4455;\n",
              "      fill: #D2E3FC;\n",
              "    }\n",
              "\n",
              "    [theme=dark] .colab-df-convert:hover {\n",
              "      background-color: #434B5C;\n",
              "      box-shadow: 0px 1px 3px 1px rgba(0, 0, 0, 0.15);\n",
              "      filter: drop-shadow(0px 1px 2px rgba(0, 0, 0, 0.3));\n",
              "      fill: #FFFFFF;\n",
              "    }\n",
              "  </style>\n",
              "\n",
              "      <script>\n",
              "        const buttonEl =\n",
              "          document.querySelector('#df-9f4a49ce-215f-406f-bae8-67e4581dc52a button.colab-df-convert');\n",
              "        buttonEl.style.display =\n",
              "          google.colab.kernel.accessAllowed ? 'block' : 'none';\n",
              "\n",
              "        async function convertToInteractive(key) {\n",
              "          const element = document.querySelector('#df-9f4a49ce-215f-406f-bae8-67e4581dc52a');\n",
              "          const dataTable =\n",
              "            await google.colab.kernel.invokeFunction('convertToInteractive',\n",
              "                                                     [key], {});\n",
              "          if (!dataTable) return;\n",
              "\n",
              "          const docLinkHtml = 'Like what you see? Visit the ' +\n",
              "            '<a target=\"_blank\" href=https://colab.research.google.com/notebooks/data_table.ipynb>data table notebook</a>'\n",
              "            + ' to learn more about interactive tables.';\n",
              "          element.innerHTML = '';\n",
              "          dataTable['output_type'] = 'display_data';\n",
              "          await google.colab.output.renderOutput(dataTable, element);\n",
              "          const docLink = document.createElement('div');\n",
              "          docLink.innerHTML = docLinkHtml;\n",
              "          element.appendChild(docLink);\n",
              "        }\n",
              "      </script>\n",
              "    </div>\n",
              "  </div>\n",
              "  "
            ]
          },
          "metadata": {},
          "execution_count": 452
        }
      ]
    },
    {
      "cell_type": "code",
      "source": [
        "#para acessar um item quando é uma lista\n",
        "base[1]"
      ],
      "metadata": {
        "colab": {
          "base_uri": "https://localhost:8080/"
        },
        "id": "RI7e2H4_CBdt",
        "outputId": "aa6a447a-5dd3-4906-b93b-5d4e9e8478f4"
      },
      "execution_count": 453,
      "outputs": [
        {
          "output_type": "execute_result",
          "data": {
            "text/plain": [
              "('se eu ajeitar tudo fica bem', 'alegria')"
            ]
          },
          "metadata": {},
          "execution_count": 453
        }
      ]
    },
    {
      "cell_type": "code",
      "source": [
        "#para acessar um item quando é um dataframe\n",
        "basenova.iloc[[1]]"
      ],
      "metadata": {
        "colab": {
          "base_uri": "https://localhost:8080/",
          "height": 81
        },
        "id": "4Ltfk3DyrEcG",
        "outputId": "5d8cf86d-d09f-4cb0-dc15-9b82b312584c"
      },
      "execution_count": 454,
      "outputs": [
        {
          "output_type": "execute_result",
          "data": {
            "text/plain": [
              "                                                 frase sentimento\n",
              "174  eu temo que a sentença do juiz possa ser negativa       medo"
            ],
            "text/html": [
              "\n",
              "  <div id=\"df-0f946f44-73a5-4f8c-876f-ba119b51fc7b\">\n",
              "    <div class=\"colab-df-container\">\n",
              "      <div>\n",
              "<style scoped>\n",
              "    .dataframe tbody tr th:only-of-type {\n",
              "        vertical-align: middle;\n",
              "    }\n",
              "\n",
              "    .dataframe tbody tr th {\n",
              "        vertical-align: top;\n",
              "    }\n",
              "\n",
              "    .dataframe thead th {\n",
              "        text-align: right;\n",
              "    }\n",
              "</style>\n",
              "<table border=\"1\" class=\"dataframe\">\n",
              "  <thead>\n",
              "    <tr style=\"text-align: right;\">\n",
              "      <th></th>\n",
              "      <th>frase</th>\n",
              "      <th>sentimento</th>\n",
              "    </tr>\n",
              "  </thead>\n",
              "  <tbody>\n",
              "    <tr>\n",
              "      <th>174</th>\n",
              "      <td>eu temo que a sentença do juiz possa ser negativa</td>\n",
              "      <td>medo</td>\n",
              "    </tr>\n",
              "  </tbody>\n",
              "</table>\n",
              "</div>\n",
              "      <button class=\"colab-df-convert\" onclick=\"convertToInteractive('df-0f946f44-73a5-4f8c-876f-ba119b51fc7b')\"\n",
              "              title=\"Convert this dataframe to an interactive table.\"\n",
              "              style=\"display:none;\">\n",
              "        \n",
              "  <svg xmlns=\"http://www.w3.org/2000/svg\" height=\"24px\"viewBox=\"0 0 24 24\"\n",
              "       width=\"24px\">\n",
              "    <path d=\"M0 0h24v24H0V0z\" fill=\"none\"/>\n",
              "    <path d=\"M18.56 5.44l.94 2.06.94-2.06 2.06-.94-2.06-.94-.94-2.06-.94 2.06-2.06.94zm-11 1L8.5 8.5l.94-2.06 2.06-.94-2.06-.94L8.5 2.5l-.94 2.06-2.06.94zm10 10l.94 2.06.94-2.06 2.06-.94-2.06-.94-.94-2.06-.94 2.06-2.06.94z\"/><path d=\"M17.41 7.96l-1.37-1.37c-.4-.4-.92-.59-1.43-.59-.52 0-1.04.2-1.43.59L10.3 9.45l-7.72 7.72c-.78.78-.78 2.05 0 2.83L4 21.41c.39.39.9.59 1.41.59.51 0 1.02-.2 1.41-.59l7.78-7.78 2.81-2.81c.8-.78.8-2.07 0-2.86zM5.41 20L4 18.59l7.72-7.72 1.47 1.35L5.41 20z\"/>\n",
              "  </svg>\n",
              "      </button>\n",
              "      \n",
              "  <style>\n",
              "    .colab-df-container {\n",
              "      display:flex;\n",
              "      flex-wrap:wrap;\n",
              "      gap: 12px;\n",
              "    }\n",
              "\n",
              "    .colab-df-convert {\n",
              "      background-color: #E8F0FE;\n",
              "      border: none;\n",
              "      border-radius: 50%;\n",
              "      cursor: pointer;\n",
              "      display: none;\n",
              "      fill: #1967D2;\n",
              "      height: 32px;\n",
              "      padding: 0 0 0 0;\n",
              "      width: 32px;\n",
              "    }\n",
              "\n",
              "    .colab-df-convert:hover {\n",
              "      background-color: #E2EBFA;\n",
              "      box-shadow: 0px 1px 2px rgba(60, 64, 67, 0.3), 0px 1px 3px 1px rgba(60, 64, 67, 0.15);\n",
              "      fill: #174EA6;\n",
              "    }\n",
              "\n",
              "    [theme=dark] .colab-df-convert {\n",
              "      background-color: #3B4455;\n",
              "      fill: #D2E3FC;\n",
              "    }\n",
              "\n",
              "    [theme=dark] .colab-df-convert:hover {\n",
              "      background-color: #434B5C;\n",
              "      box-shadow: 0px 1px 3px 1px rgba(0, 0, 0, 0.15);\n",
              "      filter: drop-shadow(0px 1px 2px rgba(0, 0, 0, 0.3));\n",
              "      fill: #FFFFFF;\n",
              "    }\n",
              "  </style>\n",
              "\n",
              "      <script>\n",
              "        const buttonEl =\n",
              "          document.querySelector('#df-0f946f44-73a5-4f8c-876f-ba119b51fc7b button.colab-df-convert');\n",
              "        buttonEl.style.display =\n",
              "          google.colab.kernel.accessAllowed ? 'block' : 'none';\n",
              "\n",
              "        async function convertToInteractive(key) {\n",
              "          const element = document.querySelector('#df-0f946f44-73a5-4f8c-876f-ba119b51fc7b');\n",
              "          const dataTable =\n",
              "            await google.colab.kernel.invokeFunction('convertToInteractive',\n",
              "                                                     [key], {});\n",
              "          if (!dataTable) return;\n",
              "\n",
              "          const docLinkHtml = 'Like what you see? Visit the ' +\n",
              "            '<a target=\"_blank\" href=https://colab.research.google.com/notebooks/data_table.ipynb>data table notebook</a>'\n",
              "            + ' to learn more about interactive tables.';\n",
              "          element.innerHTML = '';\n",
              "          dataTable['output_type'] = 'display_data';\n",
              "          await google.colab.output.renderOutput(dataTable, element);\n",
              "          const docLink = document.createElement('div');\n",
              "          docLink.innerHTML = docLinkHtml;\n",
              "          element.appendChild(docLink);\n",
              "        }\n",
              "      </script>\n",
              "    </div>\n",
              "  </div>\n",
              "  "
            ]
          },
          "metadata": {},
          "execution_count": 454
        }
      ]
    },
    {
      "cell_type": "code",
      "source": [
        "#quantidade de linhas de um dataframe\n",
        "basenova.shape"
      ],
      "metadata": {
        "colab": {
          "base_uri": "https://localhost:8080/"
        },
        "id": "aHliYyG7pVuG",
        "outputId": "f9559e5e-7552-4af6-9774-75d2d8658bb3"
      },
      "execution_count": 455,
      "outputs": [
        {
          "output_type": "execute_result",
          "data": {
            "text/plain": [
              "(280, 2)"
            ]
          },
          "metadata": {},
          "execution_count": 455
        }
      ]
    },
    {
      "cell_type": "code",
      "source": [
        "#quantidade de linhas de uma lista\n",
        "len(base)"
      ],
      "metadata": {
        "colab": {
          "base_uri": "https://localhost:8080/"
        },
        "id": "qvHL6kCurkD-",
        "outputId": "6e5139ae-027f-4905-91f4-ee2e42c8bb1a"
      },
      "execution_count": 456,
      "outputs": [
        {
          "output_type": "execute_result",
          "data": {
            "text/plain": [
              "280"
            ]
          },
          "metadata": {},
          "execution_count": 456
        }
      ]
    },
    {
      "cell_type": "code",
      "source": [
        "import seaborn as sns\n",
        "sns.countplot(basenova['sentimento'], label = 'Contagem');"
      ],
      "metadata": {
        "colab": {
          "base_uri": "https://localhost:8080/",
          "height": 334
        },
        "id": "18GqWXvMBcwI",
        "outputId": "e187aa47-3ee6-4a94-a48e-7121d688fb7b"
      },
      "execution_count": 457,
      "outputs": [
        {
          "output_type": "stream",
          "name": "stderr",
          "text": [
            "/usr/local/lib/python3.7/dist-packages/seaborn/_decorators.py:43: FutureWarning: Pass the following variable as a keyword arg: x. From version 0.12, the only valid positional argument will be `data`, and passing other arguments without an explicit keyword will result in an error or misinterpretation.\n",
            "  FutureWarning\n"
          ]
        },
        {
          "output_type": "display_data",
          "data": {
            "text/plain": [
              "<Figure size 432x288 with 1 Axes>"
            ],
            "image/png": "[encoded data removed]"
          },
          "metadata": {
            "needs_background": "light"
          }
        }
      ]
    },
    {
      "cell_type": "markdown",
      "source": [
        "## Separar texto do rótulo - O sentimento é o que queremos prever, então fica separado."
      ],
      "metadata": {
        "id": "FS_J8heUqErz"
      }
    },
    {
      "cell_type": "code",
      "source": [
        "frases = basenova[['frase']]\n",
        "sentimento = basenova['sentimento'].values"
      ],
      "metadata": {
        "id": "5iw7SmS5qD3z"
      },
      "execution_count": 458,
      "outputs": []
    },
    {
      "cell_type": "code",
      "source": [
        "frases.head()"
      ],
      "metadata": {
        "colab": {
          "base_uri": "https://localhost:8080/",
          "height": 206
        },
        "id": "vInkDUxFsJqq",
        "outputId": "e8d1d645-95a6-427c-937d-6914884a279b"
      },
      "execution_count": 459,
      "outputs": [
        {
          "output_type": "execute_result",
          "data": {
            "text/plain": [
              "                                                 frase\n",
              "33                           nosso ideal foi alcançado\n",
              "174  eu temo que a sentença do juiz possa ser negativa\n",
              "89                       estou cativada pelo seu olhar\n",
              "202       sinto arrepios quando fico sozinho no escuro\n",
              "240  e preciso afugenta com ímpeto este medo do inf..."
            ],
            "text/html": [
              "\n",
              "  <div id=\"df-359e5343-ba52-4671-81af-6365165b54f1\">\n",
              "    <div class=\"colab-df-container\">\n",
              "      <div>\n",
              "<style scoped>\n",
              "    .dataframe tbody tr th:only-of-type {\n",
              "        vertical-align: middle;\n",
              "    }\n",
              "\n",
              "    .dataframe tbody tr th {\n",
              "        vertical-align: top;\n",
              "    }\n",
              "\n",
              "    .dataframe thead th {\n",
              "        text-align: right;\n",
              "    }\n",
              "</style>\n",
              "<table border=\"1\" class=\"dataframe\">\n",
              "  <thead>\n",
              "    <tr style=\"text-align: right;\">\n",
              "      <th></th>\n",
              "      <th>frase</th>\n",
              "    </tr>\n",
              "  </thead>\n",
              "  <tbody>\n",
              "    <tr>\n",
              "      <th>33</th>\n",
              "      <td>nosso ideal foi alcançado</td>\n",
              "    </tr>\n",
              "    <tr>\n",
              "      <th>174</th>\n",
              "      <td>eu temo que a sentença do juiz possa ser negativa</td>\n",
              "    </tr>\n",
              "    <tr>\n",
              "      <th>89</th>\n",
              "      <td>estou cativada pelo seu olhar</td>\n",
              "    </tr>\n",
              "    <tr>\n",
              "      <th>202</th>\n",
              "      <td>sinto arrepios quando fico sozinho no escuro</td>\n",
              "    </tr>\n",
              "    <tr>\n",
              "      <th>240</th>\n",
              "      <td>e preciso afugenta com ímpeto este medo do inf...</td>\n",
              "    </tr>\n",
              "  </tbody>\n",
              "</table>\n",
              "</div>\n",
              "      <button class=\"colab-df-convert\" onclick=\"convertToInteractive('df-359e5343-ba52-4671-81af-6365165b54f1')\"\n",
              "              title=\"Convert this dataframe to an interactive table.\"\n",
              "              style=\"display:none;\">\n",
              "        \n",
              "  <svg xmlns=\"http://www.w3.org/2000/svg\" height=\"24px\"viewBox=\"0 0 24 24\"\n",
              "       width=\"24px\">\n",
              "    <path d=\"M0 0h24v24H0V0z\" fill=\"none\"/>\n",
              "    <path d=\"M18.56 5.44l.94 2.06.94-2.06 2.06-.94-2.06-.94-.94-2.06-.94 2.06-2.06.94zm-11 1L8.5 8.5l.94-2.06 2.06-.94-2.06-.94L8.5 2.5l-.94 2.06-2.06.94zm10 10l.94 2.06.94-2.06 2.06-.94-2.06-.94-.94-2.06-.94 2.06-2.06.94z\"/><path d=\"M17.41 7.96l-1.37-1.37c-.4-.4-.92-.59-1.43-.59-.52 0-1.04.2-1.43.59L10.3 9.45l-7.72 7.72c-.78.78-.78 2.05 0 2.83L4 21.41c.39.39.9.59 1.41.59.51 0 1.02-.2 1.41-.59l7.78-7.78 2.81-2.81c.8-.78.8-2.07 0-2.86zM5.41 20L4 18.59l7.72-7.72 1.47 1.35L5.41 20z\"/>\n",
              "  </svg>\n",
              "      </button>\n",
              "      \n",
              "  <style>\n",
              "    .colab-df-container {\n",
              "      display:flex;\n",
              "      flex-wrap:wrap;\n",
              "      gap: 12px;\n",
              "    }\n",
              "\n",
              "    .colab-df-convert {\n",
              "      background-color: #E8F0FE;\n",
              "      border: none;\n",
              "      border-radius: 50%;\n",
              "      cursor: pointer;\n",
              "      display: none;\n",
              "      fill: #1967D2;\n",
              "      height: 32px;\n",
              "      padding: 0 0 0 0;\n",
              "      width: 32px;\n",
              "    }\n",
              "\n",
              "    .colab-df-convert:hover {\n",
              "      background-color: #E2EBFA;\n",
              "      box-shadow: 0px 1px 2px rgba(60, 64, 67, 0.3), 0px 1px 3px 1px rgba(60, 64, 67, 0.15);\n",
              "      fill: #174EA6;\n",
              "    }\n",
              "\n",
              "    [theme=dark] .colab-df-convert {\n",
              "      background-color: #3B4455;\n",
              "      fill: #D2E3FC;\n",
              "    }\n",
              "\n",
              "    [theme=dark] .colab-df-convert:hover {\n",
              "      background-color: #434B5C;\n",
              "      box-shadow: 0px 1px 3px 1px rgba(0, 0, 0, 0.15);\n",
              "      filter: drop-shadow(0px 1px 2px rgba(0, 0, 0, 0.3));\n",
              "      fill: #FFFFFF;\n",
              "    }\n",
              "  </style>\n",
              "\n",
              "      <script>\n",
              "        const buttonEl =\n",
              "          document.querySelector('#df-359e5343-ba52-4671-81af-6365165b54f1 button.colab-df-convert');\n",
              "        buttonEl.style.display =\n",
              "          google.colab.kernel.accessAllowed ? 'block' : 'none';\n",
              "\n",
              "        async function convertToInteractive(key) {\n",
              "          const element = document.querySelector('#df-359e5343-ba52-4671-81af-6365165b54f1');\n",
              "          const dataTable =\n",
              "            await google.colab.kernel.invokeFunction('convertToInteractive',\n",
              "                                                     [key], {});\n",
              "          if (!dataTable) return;\n",
              "\n",
              "          const docLinkHtml = 'Like what you see? Visit the ' +\n",
              "            '<a target=\"_blank\" href=https://colab.research.google.com/notebooks/data_table.ipynb>data table notebook</a>'\n",
              "            + ' to learn more about interactive tables.';\n",
              "          element.innerHTML = '';\n",
              "          dataTable['output_type'] = 'display_data';\n",
              "          await google.colab.output.renderOutput(dataTable, element);\n",
              "          const docLink = document.createElement('div');\n",
              "          docLink.innerHTML = docLinkHtml;\n",
              "          element.appendChild(docLink);\n",
              "        }\n",
              "      </script>\n",
              "    </div>\n",
              "  </div>\n",
              "  "
            ]
          },
          "metadata": {},
          "execution_count": 459
        }
      ]
    },
    {
      "cell_type": "code",
      "source": [
        "sentimento"
      ],
      "metadata": {
        "colab": {
          "base_uri": "https://localhost:8080/"
        },
        "id": "FGPTtFhjsMEx",
        "outputId": "cbacb1a2-81df-446a-d314-02f99669926b"
      },
      "execution_count": 460,
      "outputs": [
        {
          "output_type": "execute_result",
          "data": {
            "text/plain": [
              "array(['alegria', 'medo', 'alegria', 'medo', 'medo', 'alegria', 'alegria',\n",
              "       'alegria', 'medo', 'medo', 'alegria', 'medo', 'alegria', 'alegria',\n",
              "       'alegria', 'alegria', 'alegria', 'alegria', 'medo', 'alegria',\n",
              "       'medo', 'medo', 'alegria', 'alegria', 'alegria', 'alegria', 'medo',\n",
              "       'medo', 'medo', 'medo', 'alegria', 'alegria', 'medo', 'alegria',\n",
              "       'alegria', 'medo', 'alegria', 'medo', 'medo', 'medo', 'alegria',\n",
              "       'alegria', 'alegria', 'alegria', 'medo', 'alegria', 'medo', 'medo',\n",
              "       'alegria', 'medo', 'medo', 'alegria', 'medo', 'alegria', 'alegria',\n",
              "       'alegria', 'alegria', 'alegria', 'alegria', 'medo', 'medo',\n",
              "       'alegria', 'alegria', 'alegria', 'alegria', 'alegria', 'medo',\n",
              "       'alegria', 'medo', 'medo', 'medo', 'medo', 'alegria', 'alegria',\n",
              "       'alegria', 'medo', 'alegria', 'medo', 'alegria', 'alegria',\n",
              "       'alegria', 'medo', 'alegria', 'alegria', 'alegria', 'alegria',\n",
              "       'medo', 'alegria', 'alegria', 'medo', 'medo', 'alegria', 'alegria',\n",
              "       'alegria', 'alegria', 'medo', 'alegria', 'medo', 'medo', 'alegria',\n",
              "       'medo', 'alegria', 'medo', 'alegria', 'alegria', 'alegria', 'medo',\n",
              "       'alegria', 'alegria', 'medo', 'alegria', 'alegria', 'alegria',\n",
              "       'alegria', 'alegria', 'alegria', 'alegria', 'alegria', 'medo',\n",
              "       'medo', 'alegria', 'alegria', 'alegria', 'medo', 'medo', 'alegria',\n",
              "       'alegria', 'alegria', 'alegria', 'alegria', 'alegria', 'alegria',\n",
              "       'medo', 'medo', 'medo', 'alegria', 'alegria', 'alegria', 'alegria',\n",
              "       'medo', 'alegria', 'medo', 'alegria', 'medo', 'medo', 'alegria',\n",
              "       'alegria', 'medo', 'alegria', 'alegria', 'alegria', 'medo',\n",
              "       'alegria', 'alegria', 'medo', 'alegria', 'medo', 'medo', 'alegria',\n",
              "       'alegria', 'alegria', 'medo', 'alegria', 'alegria', 'alegria',\n",
              "       'medo', 'medo', 'medo', 'alegria', 'medo', 'medo', 'alegria',\n",
              "       'alegria', 'alegria', 'alegria', 'alegria', 'alegria', 'alegria',\n",
              "       'medo', 'medo', 'medo', 'alegria', 'medo', 'alegria', 'medo',\n",
              "       'alegria', 'alegria', 'medo', 'alegria', 'alegria', 'medo',\n",
              "       'alegria', 'medo', 'alegria', 'medo', 'alegria', 'alegria', 'medo',\n",
              "       'alegria', 'medo', 'medo', 'medo', 'alegria', 'medo', 'alegria',\n",
              "       'medo', 'medo', 'alegria', 'medo', 'medo', 'alegria', 'alegria',\n",
              "       'alegria', 'medo', 'medo', 'medo', 'alegria', 'alegria', 'alegria',\n",
              "       'alegria', 'alegria', 'medo', 'medo', 'alegria', 'alegria',\n",
              "       'alegria', 'medo', 'medo', 'alegria', 'medo', 'medo', 'alegria',\n",
              "       'medo', 'medo', 'medo', 'alegria', 'alegria', 'medo', 'medo',\n",
              "       'alegria', 'medo', 'alegria', 'alegria', 'medo', 'alegria', 'medo',\n",
              "       'alegria', 'medo', 'alegria', 'medo', 'medo', 'alegria', 'medo',\n",
              "       'medo', 'medo', 'medo', 'medo', 'alegria', 'medo', 'alegria',\n",
              "       'medo', 'alegria', 'alegria', 'medo', 'medo', 'medo', 'alegria',\n",
              "       'medo', 'medo', 'alegria', 'alegria', 'medo', 'alegria', 'alegria',\n",
              "       'alegria', 'medo', 'medo', 'medo', 'alegria', 'alegria'],\n",
              "      dtype=object)"
            ]
          },
          "metadata": {},
          "execution_count": 460
        }
      ]
    },
    {
      "cell_type": "markdown",
      "source": [
        "## Remoção das Stop Words apenas das frases, realmente ver se a pena fazer com ou sem."
      ],
      "metadata": {
        "id": "6QkN-bIzCKCW"
      }
    },
    {
      "cell_type": "code",
      "source": [
        "#posso criar minha própria lista de stop words\n",
        "'''stopwords = ['a', 'agora', 'algum', 'alguma', 'aquele', 'aqueles', 'de', 'deu', 'do', 'e', 'estou', 'esta', 'esta',\n",
        "             'ir', 'meu', 'muito', 'mesmo', 'no', 'nossa', 'o', 'outro', 'para', 'que', 'sem', 'talvez', 'tem', 'tendo',\n",
        "             'tenha', 'teve', 'tive', 'todo', 'um', 'uma', 'umas', 'uns', 'vou']'''\n"
      ],
      "metadata": {
        "id": "TX9p8nG0CEAM",
        "colab": {
          "base_uri": "https://localhost:8080/",
          "height": 70
        },
        "outputId": "be6938ef-dffe-4d77-8e7f-7a62c414d051"
      },
      "execution_count": 471,
      "outputs": [
        {
          "output_type": "execute_result",
          "data": {
            "text/plain": [
              "\"stopwords = ['a', 'agora', 'algum', 'alguma', 'aquele', 'aqueles', 'de', 'deu', 'do', 'e', 'estou', 'esta', 'esta',\\n             'ir', 'meu', 'muito', 'mesmo', 'no', 'nossa', 'o', 'outro', 'para', 'que', 'sem', 'talvez', 'tem', 'tendo',\\n             'tenha', 'teve', 'tive', 'todo', 'um', 'uma', 'umas', 'uns', 'vou']\""
            ],
            "application/vnd.google.colaboratory.intrinsic+json": {
              "type": "string"
            }
          },
          "metadata": {},
          "execution_count": 471
        }
      ]
    },
    {
      "cell_type": "code",
      "source": [
        "#ou posso fazer o download de uma\n",
        "#nltk.download('stopwords')"
      ],
      "metadata": {
        "id": "4bqX4UAhE6X3"
      },
      "execution_count": 472,
      "outputs": []
    },
    {
      "cell_type": "code",
      "source": [
        "#pegando em portugues\n",
        "#stopwordsnltk = nltk.corpus.stopwords.words('portuguese')"
      ],
      "metadata": {
        "id": "BBmRmMOtEq0Y"
      },
      "execution_count": 473,
      "outputs": []
    },
    {
      "cell_type": "code",
      "source": [
        "#stopwordsnltk"
      ],
      "metadata": {
        "id": "D4WNpCE0FDZk"
      },
      "execution_count": 474,
      "outputs": []
    },
    {
      "cell_type": "code",
      "source": [
        "#Criando uma função para retirar as stopwords das frases, já que elas vão ter na frase de medo ou alegria\n",
        "'''def removestopwords(text):\n",
        "    textolimpo = \" \" # cria uma lista vazia\n",
        "    doc = text.lower() # Transformando em minúsculo\n",
        "    separado = doc.split() # transforma em lista de palavras\n",
        "    for palavra in separado: #vai pegando cada palavra da lista\n",
        "        if palavra not in stopwordsnltk: # compara cada palavra com a lista de stopwords\n",
        "          textolimpo += palavra + \" \" #adiciona cada palavraq que não está nas stopwords na frase\n",
        "    return textolimpo'''\n"
      ],
      "metadata": {
        "colab": {
          "base_uri": "https://localhost:8080/",
          "height": 87
        },
        "id": "XCYVixuUuy1A",
        "outputId": "143e57fd-8e48-4f0b-f1fe-c1ae82ebcee8"
      },
      "execution_count": 475,
      "outputs": [
        {
          "output_type": "execute_result",
          "data": {
            "text/plain": [
              "'def removestopwords(text):\\n    textolimpo = \" \" # cria uma lista vazia\\n    doc = text.lower() # Transformando em minúsculo\\n    separado = doc.split() # transforma em lista de palavras\\n    for palavra in separado: #vai pegando cada palavra da lista\\n        if palavra not in stopwordsnltk: # compara cada palavra com a lista de stopwords\\n          textolimpo += palavra + \" \" #adiciona cada palavraq que não está nas stopwords na frase\\n    return textolimpo'"
            ],
            "application/vnd.google.colaboratory.intrinsic+json": {
              "type": "string"
            }
          },
          "metadata": {},
          "execution_count": 475
        }
      ]
    },
    {
      "cell_type": "code",
      "source": [
        "#fraseteste = \"Eu não sei o porquê, mas amo viajar\""
      ],
      "metadata": {
        "id": "ntq-GYYd_Wfy"
      },
      "execution_count": 476,
      "outputs": []
    },
    {
      "cell_type": "code",
      "source": [
        "#removestopwords(fraseteste)"
      ],
      "metadata": {
        "id": "MDq1ZI-HvC0O"
      },
      "execution_count": 477,
      "outputs": []
    },
    {
      "cell_type": "markdown",
      "source": [
        "### aplicando a função na base de dados toda"
      ],
      "metadata": {
        "id": "vO0VzSZr_nVZ"
      }
    },
    {
      "cell_type": "code",
      "source": [
        "#frases['frase'] = frases['frase'].apply(removestopwords)"
      ],
      "metadata": {
        "id": "eLyM0hKD8aL1"
      },
      "execution_count": 478,
      "outputs": []
    },
    {
      "cell_type": "code",
      "source": [
        "frases"
      ],
      "metadata": {
        "colab": {
          "base_uri": "https://localhost:8080/",
          "height": 0
        },
        "id": "8sfQH5lh8721",
        "outputId": "977dbc33-33ff-434e-c7a8-ad3017b933f8"
      },
      "execution_count": 479,
      "outputs": [
        {
          "output_type": "execute_result",
          "data": {
            "text/plain": [
              "                                                 frase\n",
              "33                           nosso ideal foi alcançado\n",
              "174  eu temo que a sentença do juiz possa ser negativa\n",
              "89                       estou cativada pelo seu olhar\n",
              "202       sinto arrepios quando fico sozinho no escuro\n",
              "240  e preciso afugenta com ímpeto este medo do inf...\n",
              "..                                                 ...\n",
              "255                                 não confio em você\n",
              "278                 foi terrível o tigre quase o matou\n",
              "191  eu não vou ate a floresta negra, e muito perigoso\n",
              "48                           este trabalho e agradável\n",
              "29                       me sinto completamente segura\n",
              "\n",
              "[280 rows x 1 columns]"
            ],
            "text/html": [
              "\n",
              "  <div id=\"df-417b03e6-cb7d-436a-8d8f-196fc7d6e125\">\n",
              "    <div class=\"colab-df-container\">\n",
              "      <div>\n",
              "<style scoped>\n",
              "    .dataframe tbody tr th:only-of-type {\n",
              "        vertical-align: middle;\n",
              "    }\n",
              "\n",
              "    .dataframe tbody tr th {\n",
              "        vertical-align: top;\n",
              "    }\n",
              "\n",
              "    .dataframe thead th {\n",
              "        text-align: right;\n",
              "    }\n",
              "</style>\n",
              "<table border=\"1\" class=\"dataframe\">\n",
              "  <thead>\n",
              "    <tr style=\"text-align: right;\">\n",
              "      <th></th>\n",
              "      <th>frase</th>\n",
              "    </tr>\n",
              "  </thead>\n",
              "  <tbody>\n",
              "    <tr>\n",
              "      <th>33</th>\n",
              "      <td>nosso ideal foi alcançado</td>\n",
              "    </tr>\n",
              "    <tr>\n",
              "      <th>174</th>\n",
              "      <td>eu temo que a sentença do juiz possa ser negativa</td>\n",
              "    </tr>\n",
              "    <tr>\n",
              "      <th>89</th>\n",
              "      <td>estou cativada pelo seu olhar</td>\n",
              "    </tr>\n",
              "    <tr>\n",
              "      <th>202</th>\n",
              "      <td>sinto arrepios quando fico sozinho no escuro</td>\n",
              "    </tr>\n",
              "    <tr>\n",
              "      <th>240</th>\n",
              "      <td>e preciso afugenta com ímpeto este medo do inf...</td>\n",
              "    </tr>\n",
              "    <tr>\n",
              "      <th>...</th>\n",
              "      <td>...</td>\n",
              "    </tr>\n",
              "    <tr>\n",
              "      <th>255</th>\n",
              "      <td>não confio em você</td>\n",
              "    </tr>\n",
              "    <tr>\n",
              "      <th>278</th>\n",
              "      <td>foi terrível o tigre quase o matou</td>\n",
              "    </tr>\n",
              "    <tr>\n",
              "      <th>191</th>\n",
              "      <td>eu não vou ate a floresta negra, e muito perigoso</td>\n",
              "    </tr>\n",
              "    <tr>\n",
              "      <th>48</th>\n",
              "      <td>este trabalho e agradável</td>\n",
              "    </tr>\n",
              "    <tr>\n",
              "      <th>29</th>\n",
              "      <td>me sinto completamente segura</td>\n",
              "    </tr>\n",
              "  </tbody>\n",
              "</table>\n",
              "<p>280 rows × 1 columns</p>\n",
              "</div>\n",
              "      <button class=\"colab-df-convert\" onclick=\"convertToInteractive('df-417b03e6-cb7d-436a-8d8f-196fc7d6e125')\"\n",
              "              title=\"Convert this dataframe to an interactive table.\"\n",
              "              style=\"display:none;\">\n",
              "        \n",
              "  <svg xmlns=\"http://www.w3.org/2000/svg\" height=\"24px\"viewBox=\"0 0 24 24\"\n",
              "       width=\"24px\">\n",
              "    <path d=\"M0 0h24v24H0V0z\" fill=\"none\"/>\n",
              "    <path d=\"M18.56 5.44l.94 2.06.94-2.06 2.06-.94-2.06-.94-.94-2.06-.94 2.06-2.06.94zm-11 1L8.5 8.5l.94-2.06 2.06-.94-2.06-.94L8.5 2.5l-.94 2.06-2.06.94zm10 10l.94 2.06.94-2.06 2.06-.94-2.06-.94-.94-2.06-.94 2.06-2.06.94z\"/><path d=\"M17.41 7.96l-1.37-1.37c-.4-.4-.92-.59-1.43-.59-.52 0-1.04.2-1.43.59L10.3 9.45l-7.72 7.72c-.78.78-.78 2.05 0 2.83L4 21.41c.39.39.9.59 1.41.59.51 0 1.02-.2 1.41-.59l7.78-7.78 2.81-2.81c.8-.78.8-2.07 0-2.86zM5.41 20L4 18.59l7.72-7.72 1.47 1.35L5.41 20z\"/>\n",
              "  </svg>\n",
              "      </button>\n",
              "      \n",
              "  <style>\n",
              "    .colab-df-container {\n",
              "      display:flex;\n",
              "      flex-wrap:wrap;\n",
              "      gap: 12px;\n",
              "    }\n",
              "\n",
              "    .colab-df-convert {\n",
              "      background-color: #E8F0FE;\n",
              "      border: none;\n",
              "      border-radius: 50%;\n",
              "      cursor: pointer;\n",
              "      display: none;\n",
              "      fill: #1967D2;\n",
              "      height: 32px;\n",
              "      padding: 0 0 0 0;\n",
              "      width: 32px;\n",
              "    }\n",
              "\n",
              "    .colab-df-convert:hover {\n",
              "      background-color: #E2EBFA;\n",
              "      box-shadow: 0px 1px 2px rgba(60, 64, 67, 0.3), 0px 1px 3px 1px rgba(60, 64, 67, 0.15);\n",
              "      fill: #174EA6;\n",
              "    }\n",
              "\n",
              "    [theme=dark] .colab-df-convert {\n",
              "      background-color: #3B4455;\n",
              "      fill: #D2E3FC;\n",
              "    }\n",
              "\n",
              "    [theme=dark] .colab-df-convert:hover {\n",
              "      background-color: #434B5C;\n",
              "      box-shadow: 0px 1px 3px 1px rgba(0, 0, 0, 0.15);\n",
              "      filter: drop-shadow(0px 1px 2px rgba(0, 0, 0, 0.3));\n",
              "      fill: #FFFFFF;\n",
              "    }\n",
              "  </style>\n",
              "\n",
              "      <script>\n",
              "        const buttonEl =\n",
              "          document.querySelector('#df-417b03e6-cb7d-436a-8d8f-196fc7d6e125 button.colab-df-convert');\n",
              "        buttonEl.style.display =\n",
              "          google.colab.kernel.accessAllowed ? 'block' : 'none';\n",
              "\n",
              "        async function convertToInteractive(key) {\n",
              "          const element = document.querySelector('#df-417b03e6-cb7d-436a-8d8f-196fc7d6e125');\n",
              "          const dataTable =\n",
              "            await google.colab.kernel.invokeFunction('convertToInteractive',\n",
              "                                                     [key], {});\n",
              "          if (!dataTable) return;\n",
              "\n",
              "          const docLinkHtml = 'Like what you see? Visit the ' +\n",
              "            '<a target=\"_blank\" href=https://colab.research.google.com/notebooks/data_table.ipynb>data table notebook</a>'\n",
              "            + ' to learn more about interactive tables.';\n",
              "          element.innerHTML = '';\n",
              "          dataTable['output_type'] = 'display_data';\n",
              "          await google.colab.output.renderOutput(dataTable, element);\n",
              "          const docLink = document.createElement('div');\n",
              "          docLink.innerHTML = docLinkHtml;\n",
              "          element.appendChild(docLink);\n",
              "        }\n",
              "      </script>\n",
              "    </div>\n",
              "  </div>\n",
              "  "
            ]
          },
          "metadata": {},
          "execution_count": 479
        }
      ]
    },
    {
      "cell_type": "markdown",
      "source": [
        "##Separar a base de dados, separando 25% da base para ficar para teste"
      ],
      "metadata": {
        "id": "P6T913TlCCA-"
      }
    },
    {
      "cell_type": "code",
      "source": [
        "from sklearn.model_selection import train_test_split\n",
        "frases_treino, frases_teste, senti_treino, senti_teste = train_test_split(frases, sentimento, test_size=0.25,shuffle=True) "
      ],
      "metadata": {
        "id": "iKKzyEfKCBGF"
      },
      "execution_count": 480,
      "outputs": []
    },
    {
      "cell_type": "code",
      "source": [
        "frases_treino"
      ],
      "metadata": {
        "colab": {
          "base_uri": "https://localhost:8080/",
          "height": 424
        },
        "id": "WyCu4TrjDXMR",
        "outputId": "50604761-fd1d-492e-e9f4-01a95d654a18"
      },
      "execution_count": 481,
      "outputs": [
        {
          "output_type": "execute_result",
          "data": {
            "text/plain": [
              "                                                 frase\n",
              "97   finalmente você colocou meu amor em primeiro l...\n",
              "262  o trabalhador e assombrado pelo temor do desem...\n",
              "210                         tire isso de mim! socorro!\n",
              "245             vamos alarmar a todos sobre a situação\n",
              "174  eu temo que a sentença do juiz possa ser negativa\n",
              "..                                                 ...\n",
              "34                        estamos muito felizes juntos\n",
              "129          vamos agir sem preconceitos e julgamentos\n",
              "50                          fiz a adesão ao curso hoje\n",
              "62                               acho que me apaixonei\n",
              "224            vou me afogar, me ajudem a sair da água\n",
              "\n",
              "[210 rows x 1 columns]"
            ],
            "text/html": [
              "\n",
              "  <div id=\"df-903d6963-7639-4de3-9fa0-f0d49af619ae\">\n",
              "    <div class=\"colab-df-container\">\n",
              "      <div>\n",
              "<style scoped>\n",
              "    .dataframe tbody tr th:only-of-type {\n",
              "        vertical-align: middle;\n",
              "    }\n",
              "\n",
              "    .dataframe tbody tr th {\n",
              "        vertical-align: top;\n",
              "    }\n",
              "\n",
              "    .dataframe thead th {\n",
              "        text-align: right;\n",
              "    }\n",
              "</style>\n",
              "<table border=\"1\" class=\"dataframe\">\n",
              "  <thead>\n",
              "    <tr style=\"text-align: right;\">\n",
              "      <th></th>\n",
              "      <th>frase</th>\n",
              "    </tr>\n",
              "  </thead>\n",
              "  <tbody>\n",
              "    <tr>\n",
              "      <th>97</th>\n",
              "      <td>finalmente você colocou meu amor em primeiro l...</td>\n",
              "    </tr>\n",
              "    <tr>\n",
              "      <th>262</th>\n",
              "      <td>o trabalhador e assombrado pelo temor do desem...</td>\n",
              "    </tr>\n",
              "    <tr>\n",
              "      <th>210</th>\n",
              "      <td>tire isso de mim! socorro!</td>\n",
              "    </tr>\n",
              "    <tr>\n",
              "      <th>245</th>\n",
              "      <td>vamos alarmar a todos sobre a situação</td>\n",
              "    </tr>\n",
              "    <tr>\n",
              "      <th>174</th>\n",
              "      <td>eu temo que a sentença do juiz possa ser negativa</td>\n",
              "    </tr>\n",
              "    <tr>\n",
              "      <th>...</th>\n",
              "      <td>...</td>\n",
              "    </tr>\n",
              "    <tr>\n",
              "      <th>34</th>\n",
              "      <td>estamos muito felizes juntos</td>\n",
              "    </tr>\n",
              "    <tr>\n",
              "      <th>129</th>\n",
              "      <td>vamos agir sem preconceitos e julgamentos</td>\n",
              "    </tr>\n",
              "    <tr>\n",
              "      <th>50</th>\n",
              "      <td>fiz a adesão ao curso hoje</td>\n",
              "    </tr>\n",
              "    <tr>\n",
              "      <th>62</th>\n",
              "      <td>acho que me apaixonei</td>\n",
              "    </tr>\n",
              "    <tr>\n",
              "      <th>224</th>\n",
              "      <td>vou me afogar, me ajudem a sair da água</td>\n",
              "    </tr>\n",
              "  </tbody>\n",
              "</table>\n",
              "<p>210 rows × 1 columns</p>\n",
              "</div>\n",
              "      <button class=\"colab-df-convert\" onclick=\"convertToInteractive('df-903d6963-7639-4de3-9fa0-f0d49af619ae')\"\n",
              "              title=\"Convert this dataframe to an interactive table.\"\n",
              "              style=\"display:none;\">\n",
              "        \n",
              "  <svg xmlns=\"http://www.w3.org/2000/svg\" height=\"24px\"viewBox=\"0 0 24 24\"\n",
              "       width=\"24px\">\n",
              "    <path d=\"M0 0h24v24H0V0z\" fill=\"none\"/>\n",
              "    <path d=\"M18.56 5.44l.94 2.06.94-2.06 2.06-.94-2.06-.94-.94-2.06-.94 2.06-2.06.94zm-11 1L8.5 8.5l.94-2.06 2.06-.94-2.06-.94L8.5 2.5l-.94 2.06-2.06.94zm10 10l.94 2.06.94-2.06 2.06-.94-2.06-.94-.94-2.06-.94 2.06-2.06.94z\"/><path d=\"M17.41 7.96l-1.37-1.37c-.4-.4-.92-.59-1.43-.59-.52 0-1.04.2-1.43.59L10.3 9.45l-7.72 7.72c-.78.78-.78 2.05 0 2.83L4 21.41c.39.39.9.59 1.41.59.51 0 1.02-.2 1.41-.59l7.78-7.78 2.81-2.81c.8-.78.8-2.07 0-2.86zM5.41 20L4 18.59l7.72-7.72 1.47 1.35L5.41 20z\"/>\n",
              "  </svg>\n",
              "      </button>\n",
              "      \n",
              "  <style>\n",
              "    .colab-df-container {\n",
              "      display:flex;\n",
              "      flex-wrap:wrap;\n",
              "      gap: 12px;\n",
              "    }\n",
              "\n",
              "    .colab-df-convert {\n",
              "      background-color: #E8F0FE;\n",
              "      border: none;\n",
              "      border-radius: 50%;\n",
              "      cursor: pointer;\n",
              "      display: none;\n",
              "      fill: #1967D2;\n",
              "      height: 32px;\n",
              "      padding: 0 0 0 0;\n",
              "      width: 32px;\n",
              "    }\n",
              "\n",
              "    .colab-df-convert:hover {\n",
              "      background-color: #E2EBFA;\n",
              "      box-shadow: 0px 1px 2px rgba(60, 64, 67, 0.3), 0px 1px 3px 1px rgba(60, 64, 67, 0.15);\n",
              "      fill: #174EA6;\n",
              "    }\n",
              "\n",
              "    [theme=dark] .colab-df-convert {\n",
              "      background-color: #3B4455;\n",
              "      fill: #D2E3FC;\n",
              "    }\n",
              "\n",
              "    [theme=dark] .colab-df-convert:hover {\n",
              "      background-color: #434B5C;\n",
              "      box-shadow: 0px 1px 3px 1px rgba(0, 0, 0, 0.15);\n",
              "      filter: drop-shadow(0px 1px 2px rgba(0, 0, 0, 0.3));\n",
              "      fill: #FFFFFF;\n",
              "    }\n",
              "  </style>\n",
              "\n",
              "      <script>\n",
              "        const buttonEl =\n",
              "          document.querySelector('#df-903d6963-7639-4de3-9fa0-f0d49af619ae button.colab-df-convert');\n",
              "        buttonEl.style.display =\n",
              "          google.colab.kernel.accessAllowed ? 'block' : 'none';\n",
              "\n",
              "        async function convertToInteractive(key) {\n",
              "          const element = document.querySelector('#df-903d6963-7639-4de3-9fa0-f0d49af619ae');\n",
              "          const dataTable =\n",
              "            await google.colab.kernel.invokeFunction('convertToInteractive',\n",
              "                                                     [key], {});\n",
              "          if (!dataTable) return;\n",
              "\n",
              "          const docLinkHtml = 'Like what you see? Visit the ' +\n",
              "            '<a target=\"_blank\" href=https://colab.research.google.com/notebooks/data_table.ipynb>data table notebook</a>'\n",
              "            + ' to learn more about interactive tables.';\n",
              "          element.innerHTML = '';\n",
              "          dataTable['output_type'] = 'display_data';\n",
              "          await google.colab.output.renderOutput(dataTable, element);\n",
              "          const docLink = document.createElement('div');\n",
              "          docLink.innerHTML = docLinkHtml;\n",
              "          element.appendChild(docLink);\n",
              "        }\n",
              "      </script>\n",
              "    </div>\n",
              "  </div>\n",
              "  "
            ]
          },
          "metadata": {},
          "execution_count": 481
        }
      ]
    },
    {
      "cell_type": "code",
      "source": [
        "senti_treino"
      ],
      "metadata": {
        "colab": {
          "base_uri": "https://localhost:8080/"
        },
        "id": "0uC6f8tjDahX",
        "outputId": "39d6524c-caca-4982-f3f3-f99dfcf33dd8"
      },
      "execution_count": 482,
      "outputs": [
        {
          "output_type": "execute_result",
          "data": {
            "text/plain": [
              "array(['alegria', 'medo', 'medo', 'medo', 'medo', 'alegria', 'medo',\n",
              "       'alegria', 'medo', 'medo', 'medo', 'medo', 'medo', 'medo',\n",
              "       'alegria', 'medo', 'alegria', 'medo', 'medo', 'alegria', 'alegria',\n",
              "       'alegria', 'medo', 'alegria', 'medo', 'alegria', 'medo', 'alegria',\n",
              "       'alegria', 'medo', 'medo', 'medo', 'medo', 'medo', 'alegria',\n",
              "       'alegria', 'alegria', 'alegria', 'alegria', 'medo', 'medo',\n",
              "       'alegria', 'medo', 'alegria', 'alegria', 'medo', 'medo', 'alegria',\n",
              "       'medo', 'alegria', 'alegria', 'alegria', 'medo', 'alegria', 'medo',\n",
              "       'alegria', 'medo', 'medo', 'alegria', 'medo', 'alegria', 'medo',\n",
              "       'alegria', 'medo', 'medo', 'alegria', 'alegria', 'alegria', 'medo',\n",
              "       'alegria', 'medo', 'alegria', 'alegria', 'alegria', 'medo',\n",
              "       'alegria', 'medo', 'medo', 'alegria', 'alegria', 'medo', 'alegria',\n",
              "       'alegria', 'alegria', 'alegria', 'alegria', 'medo', 'alegria',\n",
              "       'medo', 'alegria', 'alegria', 'alegria', 'alegria', 'medo',\n",
              "       'alegria', 'alegria', 'alegria', 'alegria', 'alegria', 'alegria',\n",
              "       'alegria', 'alegria', 'medo', 'medo', 'medo', 'alegria', 'medo',\n",
              "       'alegria', 'alegria', 'alegria', 'alegria', 'alegria', 'medo',\n",
              "       'alegria', 'alegria', 'alegria', 'alegria', 'medo', 'alegria',\n",
              "       'medo', 'alegria', 'alegria', 'medo', 'alegria', 'medo', 'medo',\n",
              "       'medo', 'medo', 'alegria', 'medo', 'alegria', 'alegria', 'alegria',\n",
              "       'alegria', 'medo', 'alegria', 'alegria', 'alegria', 'alegria',\n",
              "       'alegria', 'alegria', 'alegria', 'medo', 'medo', 'medo', 'alegria',\n",
              "       'alegria', 'alegria', 'medo', 'medo', 'alegria', 'alegria',\n",
              "       'alegria', 'alegria', 'medo', 'alegria', 'alegria', 'alegria',\n",
              "       'alegria', 'medo', 'medo', 'medo', 'medo', 'medo', 'alegria',\n",
              "       'alegria', 'alegria', 'alegria', 'medo', 'alegria', 'alegria',\n",
              "       'alegria', 'medo', 'medo', 'medo', 'alegria', 'medo', 'medo',\n",
              "       'alegria', 'medo', 'alegria', 'medo', 'alegria', 'medo', 'medo',\n",
              "       'alegria', 'alegria', 'medo', 'medo', 'medo', 'medo', 'alegria',\n",
              "       'alegria', 'medo', 'alegria', 'alegria', 'medo', 'alegria',\n",
              "       'alegria', 'medo', 'medo', 'medo', 'alegria', 'medo', 'alegria',\n",
              "       'alegria', 'alegria', 'alegria', 'alegria', 'medo'], dtype=object)"
            ]
          },
          "metadata": {},
          "execution_count": 482
        }
      ]
    },
    {
      "cell_type": "code",
      "source": [
        "#essas vou usar para ensinar a IA\n",
        "frases_treino.shape"
      ],
      "metadata": {
        "colab": {
          "base_uri": "https://localhost:8080/"
        },
        "id": "zVLPjWK6DfJX",
        "outputId": "4efde9ae-c3ba-4ba8-9dbd-a4f8a7a8bd05"
      },
      "execution_count": 483,
      "outputs": [
        {
          "output_type": "execute_result",
          "data": {
            "text/plain": [
              "(210, 1)"
            ]
          },
          "metadata": {},
          "execution_count": 483
        }
      ]
    },
    {
      "cell_type": "code",
      "source": [
        "senti_treino.shape"
      ],
      "metadata": {
        "colab": {
          "base_uri": "https://localhost:8080/"
        },
        "id": "BXYMTq0nDlvO",
        "outputId": "9e3aa2f2-1c16-4786-bf0d-f76f20a33a53"
      },
      "execution_count": 484,
      "outputs": [
        {
          "output_type": "execute_result",
          "data": {
            "text/plain": [
              "(210,)"
            ]
          },
          "metadata": {},
          "execution_count": 484
        }
      ]
    },
    {
      "cell_type": "code",
      "source": [
        "# com essas vou ver se ela aprendeu\n",
        "frases_teste.shape"
      ],
      "metadata": {
        "colab": {
          "base_uri": "https://localhost:8080/"
        },
        "id": "BY7m3grzEE3N",
        "outputId": "1106a232-5dc6-4281-82bf-e633a210b15b"
      },
      "execution_count": 485,
      "outputs": [
        {
          "output_type": "execute_result",
          "data": {
            "text/plain": [
              "(70, 1)"
            ]
          },
          "metadata": {},
          "execution_count": 485
        }
      ]
    },
    {
      "cell_type": "markdown",
      "source": [
        "## Agora que nossa base está separada vamos converter nossos textos em números para a Inteligência Artificial. Processo de Vetorização de Palavras"
      ],
      "metadata": {
        "id": "INicajz-KFCD"
      }
    },
    {
      "cell_type": "code",
      "source": [
        "from sklearn.feature_extraction.text import CountVectorizer"
      ],
      "metadata": {
        "id": "Ungb-mbMKEgL"
      },
      "execution_count": 486,
      "outputs": []
    },
    {
      "cell_type": "code",
      "source": [
        "vocab = basenova['frase'].values"
      ],
      "metadata": {
        "id": "5z4zSVp4LPO9"
      },
      "execution_count": 487,
      "outputs": []
    },
    {
      "cell_type": "code",
      "source": [
        "vocab"
      ],
      "metadata": {
        "colab": {
          "base_uri": "https://localhost:8080/"
        },
        "id": "M8ASuagBLeP-",
        "outputId": "5c628f9e-60ba-4944-8792-666c2e37feaf"
      },
      "execution_count": 488,
      "outputs": [
        {
          "output_type": "execute_result",
          "data": {
            "text/plain": [
              "array(['nosso ideal foi alcançado',\n",
              "       'eu temo que a sentença do juiz possa ser negativa',\n",
              "       'estou cativada pelo seu olhar',\n",
              "       'sinto arrepios quando fico sozinho no escuro',\n",
              "       'e preciso afugenta com ímpeto este medo do inferno',\n",
              "       'como este lugar e confortável', 'estou despreocupada',\n",
              "       'vou consentir o orçamento ao cliente',\n",
              "       'estou sem saída, preciso de um milagre',\n",
              "       'temo pela sua segurança', 'e muito bom estar com os amigos',\n",
              "       'eu te entrego o dinheiro, por favor não me mate!',\n",
              "       'estivemos em um ótimo show',\n",
              "       'com todo esse charme você irá atrair a todos',\n",
              "       'sou muito afortunado', 'um elogio nunca e demais',\n",
              "       'estamos muito felizes juntos',\n",
              "       'e um deleite poder compartilhar minhas vitórias',\n",
              "       'aterrorizado e suando frio', 'estou muito contente com tudo',\n",
              "       'espere, não pode me largar aqui sozinho',\n",
              "       'tenho que correr pra não me pegarem', 'concretizamos nossa ideia',\n",
              "       'e benefico para todos esta nova medida',\n",
              "       'não precisei pagar o ingresso', 'estou ansiosa pela sua chegada',\n",
              "       'eu acho que estou sendo enganado',\n",
              "       'estou estremecendo com essa casa',\n",
              "       'o objetivo disso e apenas me amedrontar mais',\n",
              "       'se ficarmos quietos eles não vão nos achar',\n",
              "       'toquei muitos corações durante o meu caminho',\n",
              "       'agradeço imensamente o seu apoio nestes dias',\n",
              "       'se sair tão tarde, poderei ser assaltada',\n",
              "       'achei esse sapato muito simpático',\n",
              "       'anseio por seus próximos trabalhos',\n",
              "       'ate o cachorro está apavorado',\n",
              "       'estou tão animada com os preparativos para o casamento',\n",
              "       'eu não confio nele, tenho que ter cautela',\n",
              "       'cuidado com as curvas na estrada',\n",
              "       'estou chocado e amedrontado com este assassinato brutal',\n",
              "       'os apaixonados são maravilhosos',\n",
              "       'estou completamente apaixonada ', 'se eu ajeitar tudo fica bem',\n",
              "       'nossa como você e charmoso querido ', 'estou desconfiada de você',\n",
              "       'nós dançamos noite adentro', 'calma, eu não estou com o dinheiro',\n",
              "       'estou assombrado pela crise financeira',\n",
              "       'aprecio sua presença em minha escola',\n",
              "       'um grupo de elefantes selvagens tem aterrorizado vilas',\n",
              "       'mas essa missão e arriscada', 'me sinto muito bem hoje',\n",
              "       'angustiadamente vou sair e casa',\n",
              "       'não me preocupo com o que aconteceu', 'meu suco favorito',\n",
              "       'estou me sentindo reconfortada hoje',\n",
              "       'fiz a adesão ao curso hoje', 'sou muito grata a você',\n",
              "       'as maravilhas do mundo', 'me advertiram sobre isso',\n",
              "       'a noite e muito perigosa', 'sinto uma grande afeição por ele',\n",
              "       'adoro a cor dos seus olhos', 'somo tão amáveis um com o outro',\n",
              "       'estou rodeada pelo seu abraço', 'estou eufórica com a noticia',\n",
              "       'os riscos são reais',\n",
              "       'e um enorme prazer ter você em nossa equipe',\n",
              "       'socorro, eu vou cair!', 'não tenho certeza se e seguro',\n",
              "       'olha aquela criatura se movendo monstruosamente',\n",
              "       'na selva tem muitos animais perigosos',\n",
              "       'você e um grande comediante', 'vamos aplaudir o vencedor ',\n",
              "       'eu nunca tive duvidas', 'estou tremendo de medo!',\n",
              "       'e um prazer conhecê-lo', 'meu deus, ele desapareceu!',\n",
              "       'conclui uma tarefa muito difícil',\n",
              "       'congratulações pelo seu aniversário',\n",
              "       'delicadamente ele a colocou para dormir',\n",
              "       'não entro lá, e um lugar muito perigoso',\n",
              "       'aquele rapaz e extremamente atraente',\n",
              "       'vou dar uma grande festa para comemorar meu aniversário',\n",
              "       'você me traz de volta a vida', 'eu sou sua rainha ',\n",
              "       'salvem-se quem puder!', 'você me atrai facilmente ',\n",
              "       'fui beneficiada pela minha empresa',\n",
              "       'tem certeza que não e perigoso?',\n",
              "       'estou angustiada com meus filhos na rua',\n",
              "       'conclui minha graduação',\n",
              "       'finalmente você colocou meu amor em primeiro lugar',\n",
              "       'eu confio em você', 'o dia esta muito bonito',\n",
              "       'vou apanhar se meus pais verem meu boletim',\n",
              "       'desejo a você tudo de bom',\n",
              "       'por favor, me soltem, eu sou inocente',\n",
              "       'me descobriram, irão me prender!',\n",
              "       'seja cuidadoso com os meus sentimentos',\n",
              "       'não dirija tão rápido assim', 'e muito divertido este jogo',\n",
              "       'fuja! o tigre parece faminto',\n",
              "       'podemos arrumar um emprego juntos ', 'você me completa',\n",
              "       'o órgão e compatível com o paciente',\n",
              "       'assustou a população e provocou mortes',\n",
              "       'gosto de ficar no seu aconchego', 'ela e um boa garota',\n",
              "       'socorro! ele está armado!', 'me sinto flutuando no ar',\n",
              "       'o amor e lindo', 'como o luar e belo',\n",
              "       'eu sinto o sol sempre que você esta por perto',\n",
              "       'poderemos completar o projeto hoje!', 'ótimo e compatível',\n",
              "       'adoro este doce de frutas', 'temos água em abundancia',\n",
              "       'tem um crocodilo selvagem vindo para cá',\n",
              "       'esse cara está me perseguindo', 'estamos tendo muito lucro',\n",
              "       'um chá quente e reconfortante',\n",
              "       'graças a deus que eu enxerguei o certo',\n",
              "       'e serio, cuidado com essa arma!',\n",
              "       'se eu não achar, ele vai descobrir a verdade',\n",
              "       'me dedico muito naquilo que faço', 'a musica e linda',\n",
              "       'que alegria ter vocês aqui ', 'vamos aproveitar as ferias',\n",
              "       'me sinto completamente amado', 'a dor esta amenizando finalmente',\n",
              "       'hora de apreciar um bom vinho', 'estou correndo riscos de saúde',\n",
              "       'alguem esta me ligando, estou assustado',\n",
              "       'tenho que tomar cuidado com o lobisomem',\n",
              "       'e emocionante estar neste lugar',\n",
              "       'e tão engraçado tentar explicar',\n",
              "       'nossa amizade vai durar para sempre',\n",
              "       'você significa muito para mim',\n",
              "       'os policiais se assustaram quando o carro capotou',\n",
              "       'acho que me apaixonei', 'isso me apavora',\n",
              "       'sou querida pelos meu amigos',\n",
              "       'podemos perder muito dinheiro com essa investida',\n",
              "       'por favor, deixe-me viver!', 'a brisa esta agradável hoje',\n",
              "       'eu amo você',\n",
              "       'estou com dificuldades para respirar e muito assustado',\n",
              "       'fui aprovada no meu exame',\n",
              "       'finalmente completei a minha coleção, maravilhoso',\n",
              "       'sinto-me viva ', 'avancem com cautela',\n",
              "       'maravilhoso jogo amistoso', 'eu sou admirada por muitos',\n",
              "       'estou com muito medo da noite', 'eu sou muito cativante',\n",
              "       'este lugar continua assustador', 'ouço passos na minha direção',\n",
              "       'minha fortuna ultrapassa a sua', 'vou te chamar para comemorar',\n",
              "       'vamos agir sem preconceitos e julgamentos',\n",
              "       'socorro, nós estamos afundando', 'estou aproveitando as ferias',\n",
              "       'ele e realmente fiel a mim', 'sinto-me em paz ',\n",
              "       'este lugar está silencioso de mais, cuidado!',\n",
              "       'estou ouvindo passos atrás de mim',\n",
              "       'isso não e remedio, não me matem',\n",
              "       'você será muito amado meu filho',\n",
              "       'ligeiro, temos que fugir depressa',\n",
              "       'não sei nadar, vou me afogar!',\n",
              "       'recebi muito carinho hoje do meus colegas',\n",
              "       'adoro seu cabelo macio', 'essa pintura esta bem brilhante',\n",
              "       'vamos ser caridosos este natal', 'trabalhar em equipe e o melhor',\n",
              "       'eu serei sua amiga e companheira',\n",
              "       'estou muito contente com o resultado dos testes',\n",
              "       'não tenho certeza se e seguro',\n",
              "       'receio por não me livrar desta situação',\n",
              "       'meu plano pode ser descoberto', 'você e como um sonho doce',\n",
              "       'não estaremos a salvo aqui',\n",
              "       'e desejável a sua presença em nossa apresentação',\n",
              "       'parece que tem olhos nos vigiando', 'sua bondade e cativante',\n",
              "       'estamos namorando', 'estou assustado com as ações do meu colega',\n",
              "       'a arrumação esta terminada, que alívio',\n",
              "       'e ótimo que os ânimos tenham se apaziguado',\n",
              "       'fui notificado e estou com medo de perde a guarda da minha filha',\n",
              "       'palmas para a aniversariante',\n",
              "       'não quero nem pensar no que pode acontecer',\n",
              "       'seu amor e brilhante',\n",
              "       'mantenha isso em segredo, se descobrirem estaremos ferrados',\n",
              "       'eu estou sorrindo de orelha a orelha',\n",
              "       'estou comovido com tamanha caridade', 'isso me deixa apavorada',\n",
              "       'e bom estar quente neste frio', 'fuja, se não acabaremos mortos',\n",
              "       'vamos voltar, e muito perigoso',\n",
              "       'estou correndo o risco de ser advertido', 'o amor e abundante',\n",
              "       'não me deixe por favor!', 'estou me sentindo muito animada',\n",
              "       'ele esta me ameaçando a dias', 'receio que terei de ir',\n",
              "       'somos estimados por nossa família',\n",
              "       'socorro, fui intimado a depor',\n",
              "       'tomara que eles não me vejam daqui!',\n",
              "       'satisfatoriamente eu anuncio o vencedor dos jogos',\n",
              "       'adoro como você e', 'o mais incrível e você minha bela',\n",
              "       'nessa cidade e uma desgraça atrás da outra',\n",
              "       'acho que está arriscado de mais', 'estou angustiada',\n",
              "       'que grande alivio', 'vamos agitar essa noite ',\n",
              "       'não achei que me divertiria tanto assim', 'que roupa delicada',\n",
              "       'eu adorei este perfume', 'tire isso de mim! socorro!',\n",
              "       'me sinto intimidada pela sua presença',\n",
              "       'que bondade a sua em vir aqui', 'estou contente com o apoio',\n",
              "       'quero agradar meus filhos', 'muita cautela',\n",
              "       'eu vou pedir socorro!', 'estimo muito o seu trabalho',\n",
              "       'estou amedrontada', 'não consigo sair daqui!',\n",
              "       'estou agradecida pela ajuda', 'não sei não, parece perigoso',\n",
              "       'só espero que não me façam nenhum mal',\n",
              "       'socorro! ele queria roubar os meus doces!',\n",
              "       'o coleguismo de vocês e animador',\n",
              "       'pude comprar meu celular hoje',\n",
              "       'o trabalhador e assombrado pelo temor do desemprego',\n",
              "       'ele vai levar todo o meu dinheiro', 'nossa como sou afortunado',\n",
              "       'não tive culpa, juro não fui eu',\n",
              "       'concretizei finalmente meu sonho', 'ficou lindo',\n",
              "       'não agüento este suspense', 'essa e a melhor escolhas de todas',\n",
              "       'vou ser descoberto, meu deus', 'somos compatíveis um com o outro',\n",
              "       'vou ficar sem mesada se tirar nota baixa', 'o câncer e benigno ',\n",
              "       'e abominável o que fazem com os animais',\n",
              "       'você esta me apavorando', 'isso vale a pena',\n",
              "       'este lugar e mal assombrado', 'mesmo aterrorizado lembro de você',\n",
              "       'que abominável esse montro!', 'afugente os cães',\n",
              "       'quanta angustia',\n",
              "       'com o consentimento dos meus pais podemos nos casar',\n",
              "       'seu políticos usam suas forças para afugentar e amedrontar o povo',\n",
              "       'muito bem esta tudo em ordem agora ',\n",
              "       'vou me afogar, me ajudem a sair da água',\n",
              "       'sem musica eu não vivo',\n",
              "       'estou namorando este vestido a um tempo',\n",
              "       'ei cuidado, você vai bater no poste!',\n",
              "       'agora se sente humilhado, apavorado',\n",
              "       'tenho medo de ser advertida novamente',\n",
              "       'esta comida me parece muito atraente',\n",
              "       'eu imploro, não me matem!',\n",
              "       'vamos alarmar a todos sobre a situação',\n",
              "       'vamos ter muita diversão', 'eu vejo estrelas pelo caminho',\n",
              "       'os tubarões estão atacando!', 'amar e maravilhoso',\n",
              "       'estou contente fui aceita na faculdade',\n",
              "       'estou loucamente apaixonada', 'não confio em você',\n",
              "       'foi terrível o tigre quase o matou',\n",
              "       'eu não vou ate a floresta negra, e muito perigoso',\n",
              "       'este trabalho e agradável', 'me sinto completamente segura'],\n",
              "      dtype=object)"
            ]
          },
          "metadata": {},
          "execution_count": 488
        }
      ]
    },
    {
      "cell_type": "code",
      "source": [
        "vectorizer = CountVectorizer()\n",
        "vectorizer.fit_transform(vocab)\n",
        "vectorizer.get_feature_names_out()"
      ],
      "metadata": {
        "colab": {
          "base_uri": "https://localhost:8080/"
        },
        "id": "xNfaWhj2Kggp",
        "outputId": "f6e1c4ab-e4f7-4808-a694-579b99979b98"
      },
      "execution_count": 489,
      "outputs": [
        {
          "output_type": "execute_result",
          "data": {
            "text/plain": [
              "array(['abominável', 'abraço', 'abundancia', 'abundante', 'acabaremos',\n",
              "       'aceita', 'achar', 'achei', 'acho', 'aconchego', 'acontecer',\n",
              "       'aconteceu', 'adentro', 'adesão', 'admirada', 'adorei', 'adoro',\n",
              "       'advertida', 'advertido', 'advertiram', 'afeição', 'afogar',\n",
              "       'afortunado', 'afugenta', 'afugentar', 'afugente', 'afundando',\n",
              "       'agir', 'agitar', 'agora', 'agradar', 'agradecida', 'agradeço',\n",
              "       'agradável', 'agüento', 'ajeitar', 'ajuda', 'ajudem', 'alarmar',\n",
              "       'alcançado', 'alegria', 'alguem', 'alivio', 'alívio', 'amado',\n",
              "       'amar', 'ameaçando', 'amedrontada', 'amedrontado', 'amedrontar',\n",
              "       'amenizando', 'amiga', 'amigos', 'amistoso', 'amizade', 'amo',\n",
              "       'amor', 'amáveis', 'angustia', 'angustiada', 'angustiadamente',\n",
              "       'animada', 'animador', 'animais', 'aniversariante', 'aniversário',\n",
              "       'anseio', 'ansiosa', 'anuncio', 'ao', 'apaixonada', 'apaixonados',\n",
              "       'apaixonei', 'apanhar', 'apavora', 'apavorada', 'apavorado',\n",
              "       'apavorando', 'apaziguado', 'apenas', 'aplaudir', 'apoio',\n",
              "       'apreciar', 'aprecio', 'apresentação', 'aprovada', 'aproveitando',\n",
              "       'aproveitar', 'aquela', 'aquele', 'aqui', 'ar', 'arma', 'armado',\n",
              "       'arrepios', 'arriscada', 'arriscado', 'arrumar', 'arrumação', 'as',\n",
              "       'assaltada', 'assassinato', 'assim', 'assombrado', 'assustado',\n",
              "       'assustador', 'assustaram', 'assustou', 'atacando', 'ate',\n",
              "       'aterrorizado', 'atraente', 'atrai', 'atrair', 'atrás', 'avancem',\n",
              "       'ações', 'baixa', 'bater', 'bela', 'belo', 'bem', 'beneficiada',\n",
              "       'benefico', 'benigno', 'boa', 'boletim', 'bom', 'bondade',\n",
              "       'bonito', 'brilhante', 'brisa', 'brutal', 'cabelo', 'cachorro',\n",
              "       'cair', 'calma', 'caminho', 'capotou', 'cara', 'caridade',\n",
              "       'caridosos', 'carinho', 'carro', 'casa', 'casamento', 'casar',\n",
              "       'cativada', 'cativante', 'cautela', 'celular', 'certeza', 'certo',\n",
              "       'chamar', 'charme', 'charmoso', 'chegada', 'chocado', 'chá',\n",
              "       'cidade', 'cliente', 'colega', 'colegas', 'coleguismo', 'coleção',\n",
              "       'colocou', 'com', 'comediante', 'comemorar', 'comida', 'como',\n",
              "       'comovido', 'companheira', 'compartilhar', 'compatíveis',\n",
              "       'compatível', 'completa', 'completamente', 'completar',\n",
              "       'completei', 'comprar', 'conclui', 'concretizamos', 'concretizei',\n",
              "       'confio', 'confortável', 'congratulações', 'conhecê',\n",
              "       'consentimento', 'consentir', 'consigo', 'contente', 'continua',\n",
              "       'cor', 'corações', 'correndo', 'correr', 'criatura', 'crise',\n",
              "       'crocodilo', 'cuidado', 'cuidadoso', 'culpa', 'curso', 'curvas',\n",
              "       'cá', 'câncer', 'cães', 'da', 'dançamos', 'daqui', 'dar', 'de',\n",
              "       'dedico', 'deixa', 'deixe', 'deleite', 'delicada', 'delicadamente',\n",
              "       'demais', 'depor', 'depressa', 'desapareceu', 'descoberto',\n",
              "       'descobrir', 'descobriram', 'descobrirem', 'desconfiada', 'desejo',\n",
              "       'desejável', 'desemprego', 'desgraça', 'despreocupada', 'desta',\n",
              "       'deus', 'dia', 'dias', 'dificuldades', 'difícil', 'dinheiro',\n",
              "       'direção', 'dirija', 'disso', 'diversão', 'divertido',\n",
              "       'divertiria', 'do', 'doce', 'doces', 'dor', 'dormir', 'dos',\n",
              "       'durante', 'durar', 'duvidas', 'ei', 'ela', 'ele', 'elefantes',\n",
              "       'eles', 'elogio', 'em', 'emocionante', 'emprego', 'empresa',\n",
              "       'enganado', 'engraçado', 'enorme', 'entrego', 'entro', 'enxerguei',\n",
              "       'equipe', 'escola', 'escolhas', 'escuro', 'espere', 'espero',\n",
              "       'essa', 'esse', 'esta', 'estamos', 'estar', 'estaremos', 'este',\n",
              "       'estimados', 'estimo', 'estivemos', 'estou', 'estrada', 'estrelas',\n",
              "       'estremecendo', 'está', 'estão', 'eu', 'eufórica', 'exame',\n",
              "       'explicar', 'extremamente', 'facilmente', 'faculdade', 'faminto',\n",
              "       'família', 'favor', 'favorito', 'fazem', 'façam', 'faço',\n",
              "       'felizes', 'ferias', 'ferrados', 'festa', 'fica', 'ficar',\n",
              "       'ficarmos', 'fico', 'ficou', 'fiel', 'filha', 'filho', 'filhos',\n",
              "       'finalmente', 'financeira', 'fiz', 'floresta', 'flutuando', 'foi',\n",
              "       'fortuna', 'forças', 'frio', 'frutas', 'fugir', 'fui', 'fuja',\n",
              "       'garota', 'gosto', 'graduação', 'grande', 'grata', 'graças',\n",
              "       'grupo', 'guarda', 'hoje', 'hora', 'humilhado', 'ideal', 'ideia',\n",
              "       'imensamente', 'imploro', 'incrível', 'inferno', 'ingresso',\n",
              "       'inocente', 'intimado', 'intimidada', 'investida', 'ir', 'irá',\n",
              "       'irão', 'isso', 'jogo', 'jogos', 'juiz', 'julgamentos', 'juntos',\n",
              "       'juro', 'largar', 'lembro', 'levar', 'ligando', 'ligeiro', 'linda',\n",
              "       'lindo', 'livrar', 'lo', 'lobisomem', 'loucamente', 'luar',\n",
              "       'lucro', 'lugar', 'lá', 'macio', 'mais', 'mal', 'mantenha',\n",
              "       'maravilhas', 'maravilhoso', 'maravilhosos', 'mas', 'mate',\n",
              "       'matem', 'matou', 'me', 'medida', 'medo', 'melhor', 'mesada',\n",
              "       'mesmo', 'meu', 'meus', 'milagre', 'mim', 'minha', 'minhas',\n",
              "       'missão', 'monstruosamente', 'montro', 'mortes', 'mortos',\n",
              "       'movendo', 'muita', 'muito', 'muitos', 'mundo', 'musica', 'na',\n",
              "       'nadar', 'namorando', 'naquilo', 'natal', 'negativa', 'negra',\n",
              "       'nele', 'nem', 'nenhum', 'nessa', 'neste', 'nestes', 'no', 'noite',\n",
              "       'nos', 'nossa', 'nosso', 'nota', 'noticia', 'notificado', 'nova',\n",
              "       'novamente', 'nunca', 'não', 'nós', 'objetivo', 'olha', 'olhar',\n",
              "       'olhos', 'ordem', 'orelha', 'orçamento', 'os', 'outra', 'outro',\n",
              "       'ouvindo', 'ouço', 'paciente', 'pagar', 'pais', 'palmas', 'para',\n",
              "       'parece', 'passos', 'paz', 'pedir', 'pegarem', 'pela', 'pelo',\n",
              "       'pelos', 'pena', 'pensar', 'perde', 'perder', 'perfume',\n",
              "       'perigosa', 'perigoso', 'perigosos', 'perseguindo', 'perto',\n",
              "       'pintura', 'plano', 'pode', 'podemos', 'poder', 'poderei',\n",
              "       'poderemos', 'policiais', 'políticos', 'população', 'por', 'possa',\n",
              "       'poste', 'povo', 'pra', 'prazer', 'precisei', 'preciso',\n",
              "       'preconceitos', 'prender', 'preocupo', 'preparativos', 'presença',\n",
              "       'primeiro', 'projeto', 'provocou', 'próximos', 'pude', 'puder',\n",
              "       'quando', 'quanta', 'quase', 'que', 'quem', 'quente', 'queria',\n",
              "       'querida', 'querido', 'quero', 'quietos', 'rainha', 'rapaz',\n",
              "       'reais', 'realmente', 'recebi', 'receio', 'reconfortada',\n",
              "       'reconfortante', 'remedio', 'respirar', 'resultado', 'risco',\n",
              "       'riscos', 'rodeada', 'roubar', 'roupa', 'rua', 'rápido', 'sair',\n",
              "       'salvem', 'salvo', 'sapato', 'satisfatoriamente', 'saída', 'saúde',\n",
              "       'se', 'segredo', 'segura', 'segurança', 'seguro', 'sei', 'seja',\n",
              "       'selva', 'selvagem', 'selvagens', 'sem', 'sempre', 'sendo',\n",
              "       'sente', 'sentença', 'sentimentos', 'sentindo', 'ser', 'serei',\n",
              "       'serio', 'será', 'seu', 'seus', 'show', 'significa', 'silencioso',\n",
              "       'simpático', 'sinto', 'situação', 'sobre', 'socorro', 'sol',\n",
              "       'soltem', 'somo', 'somos', 'sonho', 'sorrindo', 'sou', 'sozinho',\n",
              "       'sua', 'suando', 'suas', 'suco', 'suspense', 'são', 'só',\n",
              "       'tamanha', 'tanto', 'tarde', 'tarefa', 'te', 'tem', 'temo',\n",
              "       'temor', 'temos', 'tempo', 'tendo', 'tenham', 'tenho', 'tentar',\n",
              "       'ter', 'terei', 'terminada', 'terrível', 'testes', 'tigre',\n",
              "       'tirar', 'tire', 'tive', 'todas', 'todo', 'todos', 'tomar',\n",
              "       'tomara', 'toquei', 'trabalhador', 'trabalhar', 'trabalho',\n",
              "       'trabalhos', 'traz', 'tremendo', 'tubarões', 'tudo', 'tão',\n",
              "       'ultrapassa', 'um', 'uma', 'usam', 'vai', 'vale', 'vamos', 'vejam',\n",
              "       'vejo', 'vencedor', 'verdade', 'verem', 'vestido', 'vida',\n",
              "       'vigiando', 'vilas', 'vindo', 'vinho', 'vir', 'vitórias', 'viva',\n",
              "       'viver', 'vivo', 'você', 'vocês', 'volta', 'voltar', 'vou', 'vão',\n",
              "       'água', 'ânimos', 'ímpeto', 'órgão', 'ótimo'], dtype=object)"
            ]
          },
          "metadata": {},
          "execution_count": 489
        }
      ]
    },
    {
      "cell_type": "code",
      "source": [
        "vectorizer.vocabulary_"
      ],
      "metadata": {
        "colab": {
          "base_uri": "https://localhost:8080/"
        },
        "id": "Ppp2TUv2L92j",
        "outputId": "6ba05008-eaa2-4155-d92a-b0271a4a5c19"
      },
      "execution_count": 490,
      "outputs": [
        {
          "output_type": "execute_result",
          "data": {
            "text/plain": [
              "{'abominável': 0,\n",
              " 'abraço': 1,\n",
              " 'abundancia': 2,\n",
              " 'abundante': 3,\n",
              " 'acabaremos': 4,\n",
              " 'aceita': 5,\n",
              " 'achar': 6,\n",
              " 'achei': 7,\n",
              " 'acho': 8,\n",
              " 'aconchego': 9,\n",
              " 'acontecer': 10,\n",
              " 'aconteceu': 11,\n",
              " 'adentro': 12,\n",
              " 'adesão': 13,\n",
              " 'admirada': 14,\n",
              " 'adorei': 15,\n",
              " 'adoro': 16,\n",
              " 'advertida': 17,\n",
              " 'advertido': 18,\n",
              " 'advertiram': 19,\n",
              " 'afeição': 20,\n",
              " 'afogar': 21,\n",
              " 'afortunado': 22,\n",
              " 'afugenta': 23,\n",
              " 'afugentar': 24,\n",
              " 'afugente': 25,\n",
              " 'afundando': 26,\n",
              " 'agir': 27,\n",
              " 'agitar': 28,\n",
              " 'agora': 29,\n",
              " 'agradar': 30,\n",
              " 'agradecida': 31,\n",
              " 'agradeço': 32,\n",
              " 'agradável': 33,\n",
              " 'agüento': 34,\n",
              " 'ajeitar': 35,\n",
              " 'ajuda': 36,\n",
              " 'ajudem': 37,\n",
              " 'alarmar': 38,\n",
              " 'alcançado': 39,\n",
              " 'alegria': 40,\n",
              " 'alguem': 41,\n",
              " 'alivio': 42,\n",
              " 'alívio': 43,\n",
              " 'amado': 44,\n",
              " 'amar': 45,\n",
              " 'ameaçando': 46,\n",
              " 'amedrontada': 47,\n",
              " 'amedrontado': 48,\n",
              " 'amedrontar': 49,\n",
              " 'amenizando': 50,\n",
              " 'amiga': 51,\n",
              " 'amigos': 52,\n",
              " 'amistoso': 53,\n",
              " 'amizade': 54,\n",
              " 'amo': 55,\n",
              " 'amor': 56,\n",
              " 'amáveis': 57,\n",
              " 'angustia': 58,\n",
              " 'angustiada': 59,\n",
              " 'angustiadamente': 60,\n",
              " 'animada': 61,\n",
              " 'animador': 62,\n",
              " 'animais': 63,\n",
              " 'aniversariante': 64,\n",
              " 'aniversário': 65,\n",
              " 'anseio': 66,\n",
              " 'ansiosa': 67,\n",
              " 'anuncio': 68,\n",
              " 'ao': 69,\n",
              " 'apaixonada': 70,\n",
              " 'apaixonados': 71,\n",
              " 'apaixonei': 72,\n",
              " 'apanhar': 73,\n",
              " 'apavora': 74,\n",
              " 'apavorada': 75,\n",
              " 'apavorado': 76,\n",
              " 'apavorando': 77,\n",
              " 'apaziguado': 78,\n",
              " 'apenas': 79,\n",
              " 'aplaudir': 80,\n",
              " 'apoio': 81,\n",
              " 'apreciar': 82,\n",
              " 'aprecio': 83,\n",
              " 'apresentação': 84,\n",
              " 'aprovada': 85,\n",
              " 'aproveitando': 86,\n",
              " 'aproveitar': 87,\n",
              " 'aquela': 88,\n",
              " 'aquele': 89,\n",
              " 'aqui': 90,\n",
              " 'ar': 91,\n",
              " 'arma': 92,\n",
              " 'armado': 93,\n",
              " 'arrepios': 94,\n",
              " 'arriscada': 95,\n",
              " 'arriscado': 96,\n",
              " 'arrumar': 97,\n",
              " 'arrumação': 98,\n",
              " 'as': 99,\n",
              " 'assaltada': 100,\n",
              " 'assassinato': 101,\n",
              " 'assim': 102,\n",
              " 'assombrado': 103,\n",
              " 'assustado': 104,\n",
              " 'assustador': 105,\n",
              " 'assustaram': 106,\n",
              " 'assustou': 107,\n",
              " 'atacando': 108,\n",
              " 'ate': 109,\n",
              " 'aterrorizado': 110,\n",
              " 'atraente': 111,\n",
              " 'atrai': 112,\n",
              " 'atrair': 113,\n",
              " 'atrás': 114,\n",
              " 'avancem': 115,\n",
              " 'ações': 116,\n",
              " 'baixa': 117,\n",
              " 'bater': 118,\n",
              " 'bela': 119,\n",
              " 'belo': 120,\n",
              " 'bem': 121,\n",
              " 'beneficiada': 122,\n",
              " 'benefico': 123,\n",
              " 'benigno': 124,\n",
              " 'boa': 125,\n",
              " 'boletim': 126,\n",
              " 'bom': 127,\n",
              " 'bondade': 128,\n",
              " 'bonito': 129,\n",
              " 'brilhante': 130,\n",
              " 'brisa': 131,\n",
              " 'brutal': 132,\n",
              " 'cabelo': 133,\n",
              " 'cachorro': 134,\n",
              " 'cair': 135,\n",
              " 'calma': 136,\n",
              " 'caminho': 137,\n",
              " 'capotou': 138,\n",
              " 'cara': 139,\n",
              " 'caridade': 140,\n",
              " 'caridosos': 141,\n",
              " 'carinho': 142,\n",
              " 'carro': 143,\n",
              " 'casa': 144,\n",
              " 'casamento': 145,\n",
              " 'casar': 146,\n",
              " 'cativada': 147,\n",
              " 'cativante': 148,\n",
              " 'cautela': 149,\n",
              " 'celular': 150,\n",
              " 'certeza': 151,\n",
              " 'certo': 152,\n",
              " 'chamar': 153,\n",
              " 'charme': 154,\n",
              " 'charmoso': 155,\n",
              " 'chegada': 156,\n",
              " 'chocado': 157,\n",
              " 'chá': 158,\n",
              " 'cidade': 159,\n",
              " 'cliente': 160,\n",
              " 'colega': 161,\n",
              " 'colegas': 162,\n",
              " 'coleguismo': 163,\n",
              " 'coleção': 164,\n",
              " 'colocou': 165,\n",
              " 'com': 166,\n",
              " 'comediante': 167,\n",
              " 'comemorar': 168,\n",
              " 'comida': 169,\n",
              " 'como': 170,\n",
              " 'comovido': 171,\n",
              " 'companheira': 172,\n",
              " 'compartilhar': 173,\n",
              " 'compatíveis': 174,\n",
              " 'compatível': 175,\n",
              " 'completa': 176,\n",
              " 'completamente': 177,\n",
              " 'completar': 178,\n",
              " 'completei': 179,\n",
              " 'comprar': 180,\n",
              " 'conclui': 181,\n",
              " 'concretizamos': 182,\n",
              " 'concretizei': 183,\n",
              " 'confio': 184,\n",
              " 'confortável': 185,\n",
              " 'congratulações': 186,\n",
              " 'conhecê': 187,\n",
              " 'consentimento': 188,\n",
              " 'consentir': 189,\n",
              " 'consigo': 190,\n",
              " 'contente': 191,\n",
              " 'continua': 192,\n",
              " 'cor': 193,\n",
              " 'corações': 194,\n",
              " 'correndo': 195,\n",
              " 'correr': 196,\n",
              " 'criatura': 197,\n",
              " 'crise': 198,\n",
              " 'crocodilo': 199,\n",
              " 'cuidado': 200,\n",
              " 'cuidadoso': 201,\n",
              " 'culpa': 202,\n",
              " 'curso': 203,\n",
              " 'curvas': 204,\n",
              " 'cá': 205,\n",
              " 'câncer': 206,\n",
              " 'cães': 207,\n",
              " 'da': 208,\n",
              " 'dançamos': 209,\n",
              " 'daqui': 210,\n",
              " 'dar': 211,\n",
              " 'de': 212,\n",
              " 'dedico': 213,\n",
              " 'deixa': 214,\n",
              " 'deixe': 215,\n",
              " 'deleite': 216,\n",
              " 'delicada': 217,\n",
              " 'delicadamente': 218,\n",
              " 'demais': 219,\n",
              " 'depor': 220,\n",
              " 'depressa': 221,\n",
              " 'desapareceu': 222,\n",
              " 'descoberto': 223,\n",
              " 'descobrir': 224,\n",
              " 'descobriram': 225,\n",
              " 'descobrirem': 226,\n",
              " 'desconfiada': 227,\n",
              " 'desejo': 228,\n",
              " 'desejável': 229,\n",
              " 'desemprego': 230,\n",
              " 'desgraça': 231,\n",
              " 'despreocupada': 232,\n",
              " 'desta': 233,\n",
              " 'deus': 234,\n",
              " 'dia': 235,\n",
              " 'dias': 236,\n",
              " 'dificuldades': 237,\n",
              " 'difícil': 238,\n",
              " 'dinheiro': 239,\n",
              " 'direção': 240,\n",
              " 'dirija': 241,\n",
              " 'disso': 242,\n",
              " 'diversão': 243,\n",
              " 'divertido': 244,\n",
              " 'divertiria': 245,\n",
              " 'do': 246,\n",
              " 'doce': 247,\n",
              " 'doces': 248,\n",
              " 'dor': 249,\n",
              " 'dormir': 250,\n",
              " 'dos': 251,\n",
              " 'durante': 252,\n",
              " 'durar': 253,\n",
              " 'duvidas': 254,\n",
              " 'ei': 255,\n",
              " 'ela': 256,\n",
              " 'ele': 257,\n",
              " 'elefantes': 258,\n",
              " 'eles': 259,\n",
              " 'elogio': 260,\n",
              " 'em': 261,\n",
              " 'emocionante': 262,\n",
              " 'emprego': 263,\n",
              " 'empresa': 264,\n",
              " 'enganado': 265,\n",
              " 'engraçado': 266,\n",
              " 'enorme': 267,\n",
              " 'entrego': 268,\n",
              " 'entro': 269,\n",
              " 'enxerguei': 270,\n",
              " 'equipe': 271,\n",
              " 'escola': 272,\n",
              " 'escolhas': 273,\n",
              " 'escuro': 274,\n",
              " 'espere': 275,\n",
              " 'espero': 276,\n",
              " 'essa': 277,\n",
              " 'esse': 278,\n",
              " 'esta': 279,\n",
              " 'estamos': 280,\n",
              " 'estar': 281,\n",
              " 'estaremos': 282,\n",
              " 'este': 283,\n",
              " 'estimados': 284,\n",
              " 'estimo': 285,\n",
              " 'estivemos': 286,\n",
              " 'estou': 287,\n",
              " 'estrada': 288,\n",
              " 'estrelas': 289,\n",
              " 'estremecendo': 290,\n",
              " 'está': 291,\n",
              " 'estão': 292,\n",
              " 'eu': 293,\n",
              " 'eufórica': 294,\n",
              " 'exame': 295,\n",
              " 'explicar': 296,\n",
              " 'extremamente': 297,\n",
              " 'facilmente': 298,\n",
              " 'faculdade': 299,\n",
              " 'faminto': 300,\n",
              " 'família': 301,\n",
              " 'favor': 302,\n",
              " 'favorito': 303,\n",
              " 'fazem': 304,\n",
              " 'façam': 305,\n",
              " 'faço': 306,\n",
              " 'felizes': 307,\n",
              " 'ferias': 308,\n",
              " 'ferrados': 309,\n",
              " 'festa': 310,\n",
              " 'fica': 311,\n",
              " 'ficar': 312,\n",
              " 'ficarmos': 313,\n",
              " 'fico': 314,\n",
              " 'ficou': 315,\n",
              " 'fiel': 316,\n",
              " 'filha': 317,\n",
              " 'filho': 318,\n",
              " 'filhos': 319,\n",
              " 'finalmente': 320,\n",
              " 'financeira': 321,\n",
              " 'fiz': 322,\n",
              " 'floresta': 323,\n",
              " 'flutuando': 324,\n",
              " 'foi': 325,\n",
              " 'fortuna': 326,\n",
              " 'forças': 327,\n",
              " 'frio': 328,\n",
              " 'frutas': 329,\n",
              " 'fugir': 330,\n",
              " 'fui': 331,\n",
              " 'fuja': 332,\n",
              " 'garota': 333,\n",
              " 'gosto': 334,\n",
              " 'graduação': 335,\n",
              " 'grande': 336,\n",
              " 'grata': 337,\n",
              " 'graças': 338,\n",
              " 'grupo': 339,\n",
              " 'guarda': 340,\n",
              " 'hoje': 341,\n",
              " 'hora': 342,\n",
              " 'humilhado': 343,\n",
              " 'ideal': 344,\n",
              " 'ideia': 345,\n",
              " 'imensamente': 346,\n",
              " 'imploro': 347,\n",
              " 'incrível': 348,\n",
              " 'inferno': 349,\n",
              " 'ingresso': 350,\n",
              " 'inocente': 351,\n",
              " 'intimado': 352,\n",
              " 'intimidada': 353,\n",
              " 'investida': 354,\n",
              " 'ir': 355,\n",
              " 'irá': 356,\n",
              " 'irão': 357,\n",
              " 'isso': 358,\n",
              " 'jogo': 359,\n",
              " 'jogos': 360,\n",
              " 'juiz': 361,\n",
              " 'julgamentos': 362,\n",
              " 'juntos': 363,\n",
              " 'juro': 364,\n",
              " 'largar': 365,\n",
              " 'lembro': 366,\n",
              " 'levar': 367,\n",
              " 'ligando': 368,\n",
              " 'ligeiro': 369,\n",
              " 'linda': 370,\n",
              " 'lindo': 371,\n",
              " 'livrar': 372,\n",
              " 'lo': 373,\n",
              " 'lobisomem': 374,\n",
              " 'loucamente': 375,\n",
              " 'luar': 376,\n",
              " 'lucro': 377,\n",
              " 'lugar': 378,\n",
              " 'lá': 379,\n",
              " 'macio': 380,\n",
              " 'mais': 381,\n",
              " 'mal': 382,\n",
              " 'mantenha': 383,\n",
              " 'maravilhas': 384,\n",
              " 'maravilhoso': 385,\n",
              " 'maravilhosos': 386,\n",
              " 'mas': 387,\n",
              " 'mate': 388,\n",
              " 'matem': 389,\n",
              " 'matou': 390,\n",
              " 'me': 391,\n",
              " 'medida': 392,\n",
              " 'medo': 393,\n",
              " 'melhor': 394,\n",
              " 'mesada': 395,\n",
              " 'mesmo': 396,\n",
              " 'meu': 397,\n",
              " 'meus': 398,\n",
              " 'milagre': 399,\n",
              " 'mim': 400,\n",
              " 'minha': 401,\n",
              " 'minhas': 402,\n",
              " 'missão': 403,\n",
              " 'monstruosamente': 404,\n",
              " 'montro': 405,\n",
              " 'mortes': 406,\n",
              " 'mortos': 407,\n",
              " 'movendo': 408,\n",
              " 'muita': 409,\n",
              " 'muito': 410,\n",
              " 'muitos': 411,\n",
              " 'mundo': 412,\n",
              " 'musica': 413,\n",
              " 'na': 414,\n",
              " 'nadar': 415,\n",
              " 'namorando': 416,\n",
              " 'naquilo': 417,\n",
              " 'natal': 418,\n",
              " 'negativa': 419,\n",
              " 'negra': 420,\n",
              " 'nele': 421,\n",
              " 'nem': 422,\n",
              " 'nenhum': 423,\n",
              " 'nessa': 424,\n",
              " 'neste': 425,\n",
              " 'nestes': 426,\n",
              " 'no': 427,\n",
              " 'noite': 428,\n",
              " 'nos': 429,\n",
              " 'nossa': 430,\n",
              " 'nosso': 431,\n",
              " 'nota': 432,\n",
              " 'noticia': 433,\n",
              " 'notificado': 434,\n",
              " 'nova': 435,\n",
              " 'novamente': 436,\n",
              " 'nunca': 437,\n",
              " 'não': 438,\n",
              " 'nós': 439,\n",
              " 'objetivo': 440,\n",
              " 'olha': 441,\n",
              " 'olhar': 442,\n",
              " 'olhos': 443,\n",
              " 'ordem': 444,\n",
              " 'orelha': 445,\n",
              " 'orçamento': 446,\n",
              " 'os': 447,\n",
              " 'outra': 448,\n",
              " 'outro': 449,\n",
              " 'ouvindo': 450,\n",
              " 'ouço': 451,\n",
              " 'paciente': 452,\n",
              " 'pagar': 453,\n",
              " 'pais': 454,\n",
              " 'palmas': 455,\n",
              " 'para': 456,\n",
              " 'parece': 457,\n",
              " 'passos': 458,\n",
              " 'paz': 459,\n",
              " 'pedir': 460,\n",
              " 'pegarem': 461,\n",
              " 'pela': 462,\n",
              " 'pelo': 463,\n",
              " 'pelos': 464,\n",
              " 'pena': 465,\n",
              " 'pensar': 466,\n",
              " 'perde': 467,\n",
              " 'perder': 468,\n",
              " 'perfume': 469,\n",
              " 'perigosa': 470,\n",
              " 'perigoso': 471,\n",
              " 'perigosos': 472,\n",
              " 'perseguindo': 473,\n",
              " 'perto': 474,\n",
              " 'pintura': 475,\n",
              " 'plano': 476,\n",
              " 'pode': 477,\n",
              " 'podemos': 478,\n",
              " 'poder': 479,\n",
              " 'poderei': 480,\n",
              " 'poderemos': 481,\n",
              " 'policiais': 482,\n",
              " 'políticos': 483,\n",
              " 'população': 484,\n",
              " 'por': 485,\n",
              " 'possa': 486,\n",
              " 'poste': 487,\n",
              " 'povo': 488,\n",
              " 'pra': 489,\n",
              " 'prazer': 490,\n",
              " 'precisei': 491,\n",
              " 'preciso': 492,\n",
              " 'preconceitos': 493,\n",
              " 'prender': 494,\n",
              " 'preocupo': 495,\n",
              " 'preparativos': 496,\n",
              " 'presença': 497,\n",
              " 'primeiro': 498,\n",
              " 'projeto': 499,\n",
              " 'provocou': 500,\n",
              " 'próximos': 501,\n",
              " 'pude': 502,\n",
              " 'puder': 503,\n",
              " 'quando': 504,\n",
              " 'quanta': 505,\n",
              " 'quase': 506,\n",
              " 'que': 507,\n",
              " 'quem': 508,\n",
              " 'quente': 509,\n",
              " 'queria': 510,\n",
              " 'querida': 511,\n",
              " 'querido': 512,\n",
              " 'quero': 513,\n",
              " 'quietos': 514,\n",
              " 'rainha': 515,\n",
              " 'rapaz': 516,\n",
              " 'reais': 517,\n",
              " 'realmente': 518,\n",
              " 'recebi': 519,\n",
              " 'receio': 520,\n",
              " 'reconfortada': 521,\n",
              " 'reconfortante': 522,\n",
              " 'remedio': 523,\n",
              " 'respirar': 524,\n",
              " 'resultado': 525,\n",
              " 'risco': 526,\n",
              " 'riscos': 527,\n",
              " 'rodeada': 528,\n",
              " 'roubar': 529,\n",
              " 'roupa': 530,\n",
              " 'rua': 531,\n",
              " 'rápido': 532,\n",
              " 'sair': 533,\n",
              " 'salvem': 534,\n",
              " 'salvo': 535,\n",
              " 'sapato': 536,\n",
              " 'satisfatoriamente': 537,\n",
              " 'saída': 538,\n",
              " 'saúde': 539,\n",
              " 'se': 540,\n",
              " 'segredo': 541,\n",
              " 'segura': 542,\n",
              " 'segurança': 543,\n",
              " 'seguro': 544,\n",
              " 'sei': 545,\n",
              " 'seja': 546,\n",
              " 'selva': 547,\n",
              " 'selvagem': 548,\n",
              " 'selvagens': 549,\n",
              " 'sem': 550,\n",
              " 'sempre': 551,\n",
              " 'sendo': 552,\n",
              " 'sente': 553,\n",
              " 'sentença': 554,\n",
              " 'sentimentos': 555,\n",
              " 'sentindo': 556,\n",
              " 'ser': 557,\n",
              " 'serei': 558,\n",
              " 'serio': 559,\n",
              " 'será': 560,\n",
              " 'seu': 561,\n",
              " 'seus': 562,\n",
              " 'show': 563,\n",
              " 'significa': 564,\n",
              " 'silencioso': 565,\n",
              " 'simpático': 566,\n",
              " 'sinto': 567,\n",
              " 'situação': 568,\n",
              " 'sobre': 569,\n",
              " 'socorro': 570,\n",
              " 'sol': 571,\n",
              " 'soltem': 572,\n",
              " 'somo': 573,\n",
              " 'somos': 574,\n",
              " 'sonho': 575,\n",
              " 'sorrindo': 576,\n",
              " 'sou': 577,\n",
              " 'sozinho': 578,\n",
              " 'sua': 579,\n",
              " 'suando': 580,\n",
              " 'suas': 581,\n",
              " 'suco': 582,\n",
              " 'suspense': 583,\n",
              " 'são': 584,\n",
              " 'só': 585,\n",
              " 'tamanha': 586,\n",
              " 'tanto': 587,\n",
              " 'tarde': 588,\n",
              " 'tarefa': 589,\n",
              " 'te': 590,\n",
              " 'tem': 591,\n",
              " 'temo': 592,\n",
              " 'temor': 593,\n",
              " 'temos': 594,\n",
              " 'tempo': 595,\n",
              " 'tendo': 596,\n",
              " 'tenham': 597,\n",
              " 'tenho': 598,\n",
              " 'tentar': 599,\n",
              " 'ter': 600,\n",
              " 'terei': 601,\n",
              " 'terminada': 602,\n",
              " 'terrível': 603,\n",
              " 'testes': 604,\n",
              " 'tigre': 605,\n",
              " 'tirar': 606,\n",
              " 'tire': 607,\n",
              " 'tive': 608,\n",
              " 'todas': 609,\n",
              " 'todo': 610,\n",
              " 'todos': 611,\n",
              " 'tomar': 612,\n",
              " 'tomara': 613,\n",
              " 'toquei': 614,\n",
              " 'trabalhador': 615,\n",
              " 'trabalhar': 616,\n",
              " 'trabalho': 617,\n",
              " 'trabalhos': 618,\n",
              " 'traz': 619,\n",
              " 'tremendo': 620,\n",
              " 'tubarões': 621,\n",
              " 'tudo': 622,\n",
              " 'tão': 623,\n",
              " 'ultrapassa': 624,\n",
              " 'um': 625,\n",
              " 'uma': 626,\n",
              " 'usam': 627,\n",
              " 'vai': 628,\n",
              " 'vale': 629,\n",
              " 'vamos': 630,\n",
              " 'vejam': 631,\n",
              " 'vejo': 632,\n",
              " 'vencedor': 633,\n",
              " 'verdade': 634,\n",
              " 'verem': 635,\n",
              " 'vestido': 636,\n",
              " 'vida': 637,\n",
              " 'vigiando': 638,\n",
              " 'vilas': 639,\n",
              " 'vindo': 640,\n",
              " 'vinho': 641,\n",
              " 'vir': 642,\n",
              " 'vitórias': 643,\n",
              " 'viva': 644,\n",
              " 'viver': 645,\n",
              " 'vivo': 646,\n",
              " 'você': 647,\n",
              " 'vocês': 648,\n",
              " 'volta': 649,\n",
              " 'voltar': 650,\n",
              " 'vou': 651,\n",
              " 'vão': 652,\n",
              " 'água': 653,\n",
              " 'ânimos': 654,\n",
              " 'ímpeto': 655,\n",
              " 'órgão': 656,\n",
              " 'ótimo': 657}"
            ]
          },
          "metadata": {},
          "execution_count": 490
        }
      ]
    },
    {
      "cell_type": "code",
      "source": [
        "frases_transformadas_treino = vectorizer.transform(frases_treino['frase'].values)\n",
        "frases_transformadas_teste = vectorizer.transform(frases_teste['frase'].values)"
      ],
      "metadata": {
        "id": "WpMMT4r5MECL"
      },
      "execution_count": 491,
      "outputs": []
    },
    {
      "cell_type": "code",
      "source": [
        "frases_transformadas_treino"
      ],
      "metadata": {
        "colab": {
          "base_uri": "https://localhost:8080/"
        },
        "id": "Ejghsl8UTfaT",
        "outputId": "5b326057-b816-4d1a-cca2-bd70c3965608"
      },
      "execution_count": 492,
      "outputs": [
        {
          "output_type": "execute_result",
          "data": {
            "text/plain": [
              "<210x658 sparse matrix of type '<class 'numpy.int64'>'\n",
              "\twith 1056 stored elements in Compressed Sparse Row format>"
            ]
          },
          "metadata": {},
          "execution_count": 492
        }
      ]
    },
    {
      "cell_type": "code",
      "source": [
        "frases_transformadas_treino.shape"
      ],
      "metadata": {
        "colab": {
          "base_uri": "https://localhost:8080/"
        },
        "id": "sMtFoLMeTi0D",
        "outputId": "e485c3d5-926c-499f-d188-e56ce78ebece"
      },
      "execution_count": 493,
      "outputs": [
        {
          "output_type": "execute_result",
          "data": {
            "text/plain": [
              "(210, 658)"
            ]
          },
          "metadata": {},
          "execution_count": 493
        }
      ]
    },
    {
      "cell_type": "code",
      "source": [
        "frases_transformadas_teste.shape"
      ],
      "metadata": {
        "colab": {
          "base_uri": "https://localhost:8080/"
        },
        "id": "a_KKI1g3Tu9J",
        "outputId": "51908948-3c48-464f-d763-8d794ca377ae"
      },
      "execution_count": 494,
      "outputs": [
        {
          "output_type": "execute_result",
          "data": {
            "text/plain": [
              "(70, 658)"
            ]
          },
          "metadata": {},
          "execution_count": 494
        }
      ]
    },
    {
      "cell_type": "markdown",
      "source": [
        "# Somente agora entra a parte de Inteligência Artificial (Aprendizado de Máquina) - Vamos Usar 2 modelos de Algoritmos diferentes para comparar o desempenho"
      ],
      "metadata": {
        "id": "659-YJG6UApR"
      }
    },
    {
      "cell_type": "markdown",
      "source": [
        "## Modelo DecisionTreeClassifier"
      ],
      "metadata": {
        "id": "YALGKercVz0B"
      }
    },
    {
      "cell_type": "code",
      "source": [
        "from sklearn.tree import DecisionTreeClassifier\n",
        "from sklearn.ensemble import GradientBoostingClassifier\n",
        "from sklearn.metrics import classification_report\n",
        "from sklearn.metrics import confusion_matrix, classification_report\n",
        "from sklearn.metrics import plot_confusion_matrix\n",
        "from sklearn import metrics"
      ],
      "metadata": {
        "id": "8Yxcb7NJT-7i"
      },
      "execution_count": 495,
      "outputs": []
    },
    {
      "cell_type": "code",
      "source": [
        "arvore = DecisionTreeClassifier(max_depth=6, criterion='gini')\n",
        "arvore.fit(frases_transformadas_treino,senti_treino) # aqui estou ensinando para a Máquina\n",
        "y_pred_arvore = arvore.predict(frases_transformadas_teste) # aqui eu não mostro o sentimento porque ele vai ter que advinhar\n",
        "score_arvore = arvore.score(frases_transformadas_teste, senti_teste) #ver o percentual de acerto\n",
        "print(score_arvore)\n",
        "confusion_matrix(senti_teste,y_pred_arvore)"
      ],
      "metadata": {
        "colab": {
          "base_uri": "https://localhost:8080/"
        },
        "id": "5sJ2hiuhUv7f",
        "outputId": "c556374e-c9f8-4535-9f59-1dc17068ce83"
      },
      "execution_count": 496,
      "outputs": [
        {
          "output_type": "stream",
          "name": "stdout",
          "text": [
            "0.7142857142857143\n"
          ]
        },
        {
          "output_type": "execute_result",
          "data": {
            "text/plain": [
              "array([[37,  4],\n",
              "       [16, 13]])"
            ]
          },
          "metadata": {},
          "execution_count": 496
        }
      ]
    },
    {
      "cell_type": "code",
      "source": [
        "report=classification_report(y_true=senti_teste,y_pred=y_pred_arvore)\n",
        "print(report) #Mostra as métricas de resultado do modelo"
      ],
      "metadata": {
        "colab": {
          "base_uri": "https://localhost:8080/"
        },
        "id": "jAcyPwwvVmbS",
        "outputId": "ffdd211a-91f7-440d-8bd4-1da30d458dc9"
      },
      "execution_count": 497,
      "outputs": [
        {
          "output_type": "stream",
          "name": "stdout",
          "text": [
            "              precision    recall  f1-score   support\n",
            "\n",
            "     alegria       0.70      0.90      0.79        41\n",
            "        medo       0.76      0.45      0.57        29\n",
            "\n",
            "    accuracy                           0.71        70\n",
            "   macro avg       0.73      0.68      0.68        70\n",
            "weighted avg       0.73      0.71      0.70        70\n",
            "\n"
          ]
        }
      ]
    },
    {
      "cell_type": "code",
      "source": [
        "import matplotlib as plt"
      ],
      "metadata": {
        "id": "mQTJbfXIcD9G"
      },
      "execution_count": null,
      "outputs": []
    },
    {
      "cell_type": "code",
      "source": [
        "plot_confusion_matrix(arvore, frases_transformadas_teste,senti_teste, cmap=plt.cm.Reds,normalize='true')"
      ],
      "metadata": {
        "colab": {
          "base_uri": "https://localhost:8080/",
          "height": 351
        },
        "id": "xoN2n3g8b6sP",
        "outputId": "ee7c668e-25f3-467e-92f1-709effe81646"
      },
      "execution_count": null,
      "outputs": [
        {
          "output_type": "stream",
          "name": "stderr",
          "text": [
            "/usr/local/lib/python3.7/dist-packages/sklearn/utils/deprecation.py:87: FutureWarning: Function plot_confusion_matrix is deprecated; Function `plot_confusion_matrix` is deprecated in 1.0 and will be removed in 1.2. Use one of the class methods: ConfusionMatrixDisplay.from_predictions or ConfusionMatrixDisplay.from_estimator.\n",
            "  warnings.warn(msg, category=FutureWarning)\n"
          ]
        },
        {
          "output_type": "execute_result",
          "data": {
            "text/plain": [
              "<sklearn.metrics._plot.confusion_matrix.ConfusionMatrixDisplay at 0x7fac5aeb5450>"
            ]
          },
          "metadata": {},
          "execution_count": 436
        },
        {
          "output_type": "display_data",
          "data": {
            "text/plain": [
              "<Figure size 432x288 with 2 Axes>"
            ],
            "image/png": "[encoded data removed]"
          },
          "metadata": {
            "needs_background": "light"
          }
        }
      ]
    },
    {
      "cell_type": "markdown",
      "source": [
        "### Testando com frases aleatórias criadas por vocês, que não estavam na base"
      ],
      "metadata": {
        "id": "IJK5ZBTmqanC"
      }
    },
    {
      "cell_type": "code",
      "source": [
        "#frase_nova = ['Fiquei muito feliz em saber deste novo curso oferecido na Etec']\n",
        "frase_nova = ['Socorro estou sendo assaltado']\n",
        "#frase_nova =['estou sentindo arrepios de medo acho que vi um fantasma']\n",
        "#frase_nova = ['Nossa estou muito feliz porque acabei de chegar em casa e vou jogar video game']\n",
        "# convertendo a frase em números\n",
        "frase_nova_convertida = vectorizer.transform(frase_nova)\n",
        "y_pred_arvore_unica = arvore.predict(frase_nova_convertida) # aqui eu coloco para o modelo advinhar a nova frase\n",
        "y_pred_arvore_unica"
      ],
      "metadata": {
        "colab": {
          "base_uri": "https://localhost:8080/"
        },
        "id": "bzquvrM4h9uV",
        "outputId": "53a831cd-190f-4420-e5f4-15c3d2c8bf3e"
      },
      "execution_count": 552,
      "outputs": [
        {
          "output_type": "execute_result",
          "data": {
            "text/plain": [
              "array(['medo'], dtype=object)"
            ]
          },
          "metadata": {},
          "execution_count": 552
        }
      ]
    },
    {
      "cell_type": "code",
      "source": [
        "percentual_acerto = arvore.predict_proba(frase_nova_convertida)\n",
        "percentual_acerto"
      ],
      "metadata": {
        "colab": {
          "base_uri": "https://localhost:8080/"
        },
        "id": "nBZHLAo3jtgN",
        "outputId": "fb980af3-96e7-4251-ab3e-944a3323bf31"
      },
      "execution_count": 553,
      "outputs": [
        {
          "output_type": "execute_result",
          "data": {
            "text/plain": [
              "array([[0., 1.]])"
            ]
          },
          "metadata": {},
          "execution_count": 553
        }
      ]
    },
    {
      "cell_type": "markdown",
      "source": [
        "## Modelo GradientBoostingClassifier"
      ],
      "metadata": {
        "id": "dnSy6ZKTV5Xy"
      }
    },
    {
      "cell_type": "code",
      "source": [
        "xgb = GradientBoostingClassifier(n_estimators=3000,min_samples_leaf = 4, learning_rate=0.1, verbose=True) #Aqui configuramos o estimador\n",
        "xgb.fit(frases_transformadas_treino,senti_treino) #Iniciamos o treinamento\n",
        "y_pred_xgb = arvore.predict(frases_transformadas_teste) # aqui eu não mostro o sentimento porque ele vai ter que advinhar\n",
        "score_xgb = arvore.score(frases_transformadas_teste, senti_teste) #ver o percentual de acerto\n",
        "print(score_xgb)\n",
        "confusion_matrix(senti_teste,y_pred_xgb)"
      ],
      "metadata": {
        "colab": {
          "base_uri": "https://localhost:8080/"
        },
        "id": "HNpDrhdsVwtZ",
        "outputId": "3dd6f6cf-137e-4ca1-c4a7-4591742b6b10"
      },
      "execution_count": null,
      "outputs": [
        {
          "output_type": "stream",
          "name": "stdout",
          "text": [
            "      Iter       Train Loss   Remaining Time \n",
            "         1           1.3411            8.19s\n",
            "         2           1.3150           11.99s\n",
            "         3           1.2928           16.89s\n",
            "         4           1.2724           14.92s\n",
            "         5           1.2556           18.11s\n",
            "         6           1.2403           16.62s\n",
            "         7           1.2264           18.90s\n",
            "         8           1.2101           20.55s\n",
            "         9           1.1983           19.22s\n",
            "        10           1.1856           18.04s\n",
            "        20           1.0947           11.62s\n",
            "        30           1.0282            9.39s\n",
            "        40           0.9778            8.28s\n",
            "        50           0.9341            8.09s\n",
            "        60           0.9003            7.58s\n",
            "        70           0.8710            7.24s\n",
            "        80           0.8451            7.03s\n",
            "        90           0.8243            7.34s\n",
            "       100           0.8030            7.14s\n",
            "       200           0.6935            5.92s\n",
            "       300           0.6354            5.94s\n",
            "       400           0.5875            6.02s\n",
            "       500           0.5387            6.79s\n",
            "       600           0.5007            7.05s\n",
            "       700           0.4742            6.81s\n",
            "       800           0.4495            6.65s\n",
            "       900           0.4285            7.34s\n",
            "      1000           0.4111            6.84s\n",
            "      2000           0.3112            2.21s\n",
            "      3000           0.2841            0.00s\n",
            "0.7428571428571429\n"
          ]
        },
        {
          "output_type": "execute_result",
          "data": {
            "text/plain": [
              "array([[42,  1],\n",
              "       [17, 10]])"
            ]
          },
          "metadata": {},
          "execution_count": 430
        }
      ]
    },
    {
      "cell_type": "code",
      "source": [
        "report=classification_report(y_true=senti_teste,y_pred=y_pred_xgb)\n",
        "print(report) #Mostra as métricas de resultado do modelo"
      ],
      "metadata": {
        "colab": {
          "base_uri": "https://localhost:8080/"
        },
        "id": "12nQyXDVc9yT",
        "outputId": "2a450487-f707-4e2f-b382-96108cb289c8"
      },
      "execution_count": null,
      "outputs": [
        {
          "output_type": "stream",
          "name": "stdout",
          "text": [
            "              precision    recall  f1-score   support\n",
            "\n",
            "     alegria       0.71      0.98      0.82        43\n",
            "        medo       0.91      0.37      0.53        27\n",
            "\n",
            "    accuracy                           0.74        70\n",
            "   macro avg       0.81      0.67      0.67        70\n",
            "weighted avg       0.79      0.74      0.71        70\n",
            "\n"
          ]
        }
      ]
    },
    {
      "cell_type": "code",
      "source": [
        "plot_confusion_matrix(xgb, frases_transformadas_teste,senti_teste, cmap=plt.cm.Reds,normalize='true')"
      ],
      "metadata": {
        "colab": {
          "base_uri": "https://localhost:8080/",
          "height": 351
        },
        "id": "StOdhIxxcRmV",
        "outputId": "4073cef3-fcc7-4d38-c827-a40ef214d5d8"
      },
      "execution_count": null,
      "outputs": [
        {
          "output_type": "stream",
          "name": "stderr",
          "text": [
            "/usr/local/lib/python3.7/dist-packages/sklearn/utils/deprecation.py:87: FutureWarning: Function plot_confusion_matrix is deprecated; Function `plot_confusion_matrix` is deprecated in 1.0 and will be removed in 1.2. Use one of the class methods: ConfusionMatrixDisplay.from_predictions or ConfusionMatrixDisplay.from_estimator.\n",
            "  warnings.warn(msg, category=FutureWarning)\n"
          ]
        },
        {
          "output_type": "execute_result",
          "data": {
            "text/plain": [
              "<sklearn.metrics._plot.confusion_matrix.ConfusionMatrixDisplay at 0x7fac5ac8d610>"
            ]
          },
          "metadata": {},
          "execution_count": 437
        },
        {
          "output_type": "display_data",
          "data": {
            "text/plain": [
              "<Figure size 432x288 with 2 Axes>"
            ],
            "image/png": "[encoded data removed]"
          },
          "metadata": {
            "needs_background": "light"
          }
        }
      ]
    },
    {
      "cell_type": "markdown",
      "source": [
        "### Testando com frases aleatórias criadas por vocês, que não estavam na base"
      ],
      "metadata": {
        "id": "r5GblHJlrPTU"
      }
    },
    {
      "cell_type": "code",
      "source": [
        "#frase_nova = ['Fiquei muito feliz em saber deste novo curso oferecido na Etec']\n",
        "#frase_nova = ['Socorro estou sendo assaltado']\n",
        "#frase_nova =['estou sentindo arrepios de medo acho que vi um fantasma']\n",
        "#frase_nova = ['Nossa estou muito feliz porque acabei de chegar em casa e vou jogar video game']\n",
        "# convertendo a frase em números\n",
        "frase_nova_convertida = vectorizer.transform(frase_nova)\n",
        "y_pred_xgb_unica = xgb.predict(frase_nova_convertida) # aqui eu coloco para o modelo advinhar a nova frase\n",
        "y_pred_xgb_unica"
      ],
      "metadata": {
        "colab": {
          "base_uri": "https://localhost:8080/"
        },
        "outputId": "ebdd2dc2-a906-438e-b613-118d6bbca4c7",
        "id": "Fut2Cat7rPTb"
      },
      "execution_count": 544,
      "outputs": [
        {
          "output_type": "execute_result",
          "data": {
            "text/plain": [
              "array(['medo'], dtype=object)"
            ]
          },
          "metadata": {},
          "execution_count": 544
        }
      ]
    },
    {
      "cell_type": "code",
      "source": [
        "percentual_acerto = arvore.predict_proba(frase_nova_convertida)\n",
        "percentual_acerto"
      ],
      "metadata": {
        "colab": {
          "base_uri": "https://localhost:8080/"
        },
        "outputId": "82a5d16e-a5e1-4f82-d0c9-78cc1dfd2c56",
        "id": "gWXeYnhGrPTc"
      },
      "execution_count": 545,
      "outputs": [
        {
          "output_type": "execute_result",
          "data": {
            "text/plain": [
              "array([[0.7005988, 0.2994012]])"
            ]
          },
          "metadata": {},
          "execution_count": 545
        }
      ]
    },
    {
      "cell_type": "markdown",
      "source": [
        "## SGDC"
      ],
      "metadata": {
        "id": "dT54WiqqcbXV"
      }
    },
    {
      "cell_type": "code",
      "source": [
        "from sklearn.linear_model import SGDClassifier\n",
        "from sklearn.calibration import CalibratedClassifierCV"
      ],
      "metadata": {
        "id": "NERqCXpkckQ8"
      },
      "execution_count": null,
      "outputs": []
    },
    {
      "cell_type": "code",
      "source": [
        "sgdc = SGDClassifier(max_iter=3000, tol=1e-3, n_iter_no_change = 20, eta0=0.4, learning_rate = 'adaptive')\n",
        "sgdc.fit(frases_transformadas_treino,senti_treino) #treinamento\n",
        "calibrator = CalibratedClassifierCV(sgdc, cv='prefit') #Calibração para prever o percentual futuramente\n",
        "model_sgdc = calibrator.fit(frases_transformadas_treino,senti_treino) #treinamento com a calibração\n",
        "y_pred_sgd = model_sgdc.predict(frases_transformadas_teste) # previsões com a nova base\n",
        "score_sgd = model_sgdc.score(frases_transformadas_teste, senti_teste) #percentual de acerto do modelo com a base de teste\n",
        "print(score_sgd)\n",
        "confusion_matrix(senti_teste,y_pred_sgd) #Gera a matriz de confusão"
      ],
      "metadata": {
        "colab": {
          "base_uri": "https://localhost:8080/"
        },
        "id": "uzdAfdDsclLM",
        "outputId": "434ef50c-c494-42b3-c3ad-a02ad26abbbb"
      },
      "execution_count": 572,
      "outputs": [
        {
          "output_type": "stream",
          "name": "stdout",
          "text": [
            "0.7857142857142857\n"
          ]
        },
        {
          "output_type": "execute_result",
          "data": {
            "text/plain": [
              "array([[31, 10],\n",
              "       [ 5, 24]])"
            ]
          },
          "metadata": {},
          "execution_count": 572
        }
      ]
    },
    {
      "cell_type": "code",
      "source": [
        "report=classification_report(y_true=senti_teste,y_pred=y_pred_sgd)\n",
        "print(report) #Mostra as métricas de resultado do modelo"
      ],
      "metadata": {
        "colab": {
          "base_uri": "https://localhost:8080/"
        },
        "id": "Fqd5yQ25c5zr",
        "outputId": "46bfd4b3-a6dd-4aec-98b5-399c792cbd73"
      },
      "execution_count": 573,
      "outputs": [
        {
          "output_type": "stream",
          "name": "stdout",
          "text": [
            "              precision    recall  f1-score   support\n",
            "\n",
            "     alegria       0.86      0.76      0.81        41\n",
            "        medo       0.71      0.83      0.76        29\n",
            "\n",
            "    accuracy                           0.79        70\n",
            "   macro avg       0.78      0.79      0.78        70\n",
            "weighted avg       0.80      0.79      0.79        70\n",
            "\n"
          ]
        }
      ]
    },
    {
      "cell_type": "code",
      "source": [
        "plot_confusion_matrix(model_sgdc, frases_transformadas_teste,senti_teste, cmap=plt.cm.Reds,normalize='true')"
      ],
      "metadata": {
        "colab": {
          "base_uri": "https://localhost:8080/",
          "height": 351
        },
        "id": "fI2urYftdNKw",
        "outputId": "d6333246-87b4-417e-9931-f0b7600ba965"
      },
      "execution_count": 574,
      "outputs": [
        {
          "output_type": "stream",
          "name": "stderr",
          "text": [
            "/usr/local/lib/python3.7/dist-packages/sklearn/utils/deprecation.py:87: FutureWarning: Function plot_confusion_matrix is deprecated; Function `plot_confusion_matrix` is deprecated in 1.0 and will be removed in 1.2. Use one of the class methods: ConfusionMatrixDisplay.from_predictions or ConfusionMatrixDisplay.from_estimator.\n",
            "  warnings.warn(msg, category=FutureWarning)\n"
          ]
        },
        {
          "output_type": "execute_result",
          "data": {
            "text/plain": [
              "<sklearn.metrics._plot.confusion_matrix.ConfusionMatrixDisplay at 0x7fac5a8b1350>"
            ]
          },
          "metadata": {},
          "execution_count": 574
        },
        {
          "output_type": "display_data",
          "data": {
            "text/plain": [
              "<Figure size 432x288 with 2 Axes>"
            ],
            "image/png": "[encoded data removed]"
          },
          "metadata": {
            "needs_background": "light"
          }
        }
      ]
    },
    {
      "cell_type": "markdown",
      "source": [
        "### Testando com frases aleatórias criadas por vocês, que não estavam na base"
      ],
      "metadata": {
        "id": "uq6Ps-NLsbMe"
      }
    },
    {
      "cell_type": "code",
      "source": [
        "#frase_nova = ['Fiquei muito feliz em saber deste novo curso oferecido na Etec']\n",
        "#frase_nova = ['Socorro estou sendo assaltado']\n",
        "#frase_nova =['estou sentindo arrepios de medo acho que vi um fantasma']\n",
        "#frase_nova = ['Nossa estou muito feliz porque acabei de chegar em casa e vou jogar video game']\n",
        "# convertendo a frase em números\n",
        "frase_nova_convertida = vectorizer.transform(frase_nova)\n",
        "y_pred_sgdc_unica = model_sgdc.predict(frase_nova_convertida) # aqui eu coloco para o modelo advinhar a nova frase\n",
        "y_pred_sgdc_unica"
      ],
      "metadata": {
        "colab": {
          "base_uri": "https://localhost:8080/"
        },
        "outputId": "13686ba7-11a8-468e-9a82-1ee9650cc82d",
        "id": "78tW5b7ZsbMe"
      },
      "execution_count": 576,
      "outputs": [
        {
          "output_type": "execute_result",
          "data": {
            "text/plain": [
              "array(['medo'], dtype='<U7')"
            ]
          },
          "metadata": {},
          "execution_count": 576
        }
      ]
    },
    {
      "cell_type": "code",
      "source": [
        "percentual_acerto = model_sgdc.predict_proba(frase_nova_convertida)\n",
        "percentual_acerto"
      ],
      "metadata": {
        "colab": {
          "base_uri": "https://localhost:8080/"
        },
        "outputId": "8260ec7f-3d27-4cea-de37-d3a72ff7872e",
        "id": "9r4Zk21PsbMf"
      },
      "execution_count": 571,
      "outputs": [
        {
          "output_type": "execute_result",
          "data": {
            "text/plain": [
              "array([[0.98133606, 0.01866394]])"
            ]
          },
          "metadata": {},
          "execution_count": 571
        }
      ]
    }
  ]
}